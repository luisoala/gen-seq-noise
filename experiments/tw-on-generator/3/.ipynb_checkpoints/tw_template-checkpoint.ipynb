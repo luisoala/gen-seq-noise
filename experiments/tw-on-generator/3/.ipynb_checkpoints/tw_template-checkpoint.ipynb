{
 "cells": [
  {
   "cell_type": "code",
   "execution_count": 1,
   "metadata": {},
   "outputs": [
    {
     "data": {
      "text/html": [
       "<style>.container { width:80% !important; }</style>"
      ],
      "text/plain": [
       "<IPython.core.display.HTML object>"
      ]
     },
     "metadata": {},
     "output_type": "display_data"
    }
   ],
   "source": [
    "#cell-width control\n",
    "from IPython.core.display import display, HTML\n",
    "display(HTML(\"<style>.container { width:80% !important; }</style>\"))"
   ]
  },
  {
   "cell_type": "markdown",
   "metadata": {},
   "source": [
    "# Imports"
   ]
  },
  {
   "cell_type": "code",
   "execution_count": 2,
   "metadata": {},
   "outputs": [
    {
     "name": "stderr",
     "output_type": "stream",
     "text": [
      "Using TensorFlow backend.\n"
     ]
    }
   ],
   "source": [
    "#packages\n",
    "import numpy\n",
    "import tensorflow as tf\n",
    "from tensorflow.core.example import example_pb2\n",
    "\n",
    "#utils\n",
    "import os\n",
    "import random\n",
    "import pickle\n",
    "import struct\n",
    "import time\n",
    "from generators import *\n",
    "\n",
    "#keras\n",
    "import keras\n",
    "from keras.preprocessing import text, sequence\n",
    "from keras.preprocessing.text import Tokenizer\n",
    "from keras.models import Model, Sequential\n",
    "from keras.models import load_model\n",
    "from keras.layers import Dense, Dropout, Activation, Concatenate, Dot, Embedding, LSTM, Conv1D, MaxPooling1D, Input, Lambda\n",
    "    #callbacks\n",
    "from keras.callbacks import TensorBoard, ModelCheckpoint, Callback\n"
   ]
  },
  {
   "cell_type": "markdown",
   "metadata": {},
   "source": [
    "# Seeding"
   ]
  },
  {
   "cell_type": "code",
   "execution_count": 3,
   "metadata": {},
   "outputs": [],
   "source": [
    "sd = 3\n",
    "from numpy.random import seed\n",
    "seed(sd)\n",
    "from tensorflow import set_random_seed\n",
    "set_random_seed(sd)"
   ]
  },
  {
   "cell_type": "markdown",
   "metadata": {},
   "source": [
    "# CPU usage"
   ]
  },
  {
   "cell_type": "code",
   "execution_count": 4,
   "metadata": {},
   "outputs": [],
   "source": [
    "os.environ[\"CUDA_DEVICE_ORDER\"] = \"PCI_BUS_ID\"   # see issue #152\n",
    "os.environ[\"CUDA_VISIBLE_DEVICES\"] = \"\""
   ]
  },
  {
   "cell_type": "markdown",
   "metadata": {},
   "source": [
    "# Global parameters"
   ]
  },
  {
   "cell_type": "code",
   "execution_count": 5,
   "metadata": {},
   "outputs": [],
   "source": [
    "# Embedding\n",
    "max_features = 400000\n",
    "maxlen_text = 400\n",
    "maxlen_summ = 80\n",
    "embedding_size = 100 #128\n",
    "\n",
    "# Convolution\n",
    "kernel_size = 5\n",
    "filters = 64\n",
    "pool_size = 4\n",
    "\n",
    "# LSTM\n",
    "lstm_output_size = 70\n",
    "\n",
    "# Training\n",
    "batch_size = 32\n",
    "epochs = 20"
   ]
  },
  {
   "cell_type": "markdown",
   "metadata": {},
   "source": [
    "# Load data"
   ]
  },
  {
   "cell_type": "code",
   "execution_count": 6,
   "metadata": {},
   "outputs": [],
   "source": [
    "#data_dir = '/mnt/disks/500gb/experimental-data-mini/experimental-data-mini/generator-dist-1to1/1to1/'\n",
    "data_dir = '/media/oala/4TB/experimental-data/experiment-1_nonconform-models/generator-dist/1to1/'\n",
    "#processing_dir = '/mnt/disks/500gb/stats-and-meta-data/400000/'\n",
    "processing_dir = '/media/oala/4TB/experimental-data/stats-and-meta-data/400000/'\n",
    "\n",
    "with open(data_dir+'partition.pickle', 'rb') as handle: partition = pickle.load(handle)\n",
    "with open(data_dir+'labels.pickle', 'rb') as handle: labels = pickle.load(handle)\n",
    "\n",
    "with open(processing_dir+'tokenizer.pickle', 'rb') as handle: tokenizer = pickle.load(handle)\n",
    "embedding_matrix = numpy.load(processing_dir+'embedding_matrix.npy')\n",
    "\n",
    "#the p_n constant\n",
    "c = 80000"
   ]
  },
  {
   "cell_type": "markdown",
   "metadata": {},
   "source": [
    "# Model"
   ]
  },
  {
   "cell_type": "code",
   "execution_count": 7,
   "metadata": {},
   "outputs": [],
   "source": [
    "#2way input\n",
    "text_input = Input(shape=(maxlen_text,embedding_size), dtype='float32')\n",
    "summ_input = Input(shape=(maxlen_summ,embedding_size), dtype='float32')\n",
    "\n",
    "#2way dropout\n",
    "text_route = Dropout(0.25)(text_input)\n",
    "summ_route = Dropout(0.25)(summ_input)\n",
    "\n",
    "#2way conv\n",
    "text_route = Conv1D(filters,\n",
    "                 kernel_size,\n",
    "                 padding='valid',\n",
    "                 activation='relu',\n",
    "                 strides=1)(text_route)\n",
    "summ_route = Conv1D(filters,\n",
    "                 kernel_size,\n",
    "                 padding='valid',\n",
    "                 activation='relu',\n",
    "                 strides=1)(summ_route)\n",
    "\n",
    "#2way max pool\n",
    "text_route = MaxPooling1D(pool_size=pool_size)(text_route)\n",
    "summ_route = MaxPooling1D(pool_size=pool_size)(summ_route)\n",
    "\n",
    "#2way lstm\n",
    "text_route = LSTM(lstm_output_size)(text_route)\n",
    "summ_route = LSTM(lstm_output_size)(summ_route)\n",
    "\n",
    "#get dot of both routes\n",
    "merged = Dot(axes=1,normalize=True)([text_route, summ_route])\n",
    "\n",
    "#negate results\n",
    "#merged = Lambda(lambda x: -1*x)(merged)\n",
    "\n",
    "#add p_n constant\n",
    "#merged = Lambda(lambda x: x + c)(merged)\n",
    "\n",
    "#output\n",
    "output = Dense(1, activation='sigmoid')(merged)\n",
    "\n",
    "#define model\n",
    "model = Model(inputs=[text_input, summ_input], outputs=[output])\n",
    "\n",
    "model.compile(loss='binary_crossentropy',\n",
    "              optimizer='adam',\n",
    "              metrics=['accuracy'])"
   ]
  },
  {
   "cell_type": "markdown",
   "metadata": {},
   "source": [
    "# Train model"
   ]
  },
  {
   "cell_type": "code",
   "execution_count": 8,
   "metadata": {},
   "outputs": [
    {
     "name": "stdout",
     "output_type": "stream",
     "text": [
      "Epoch 1/20\n",
      "17944/17944 [==============================] - 4859s 271ms/step - loss: 0.3285 - acc: 0.8580 - val_loss: 0.2630 - val_acc: 0.8895\n",
      "Epoch 2/20\n",
      "17944/17944 [==============================] - 4928s 275ms/step - loss: 0.2616 - acc: 0.8906 - val_loss: 0.2320 - val_acc: 0.9037\n",
      "Epoch 3/20\n",
      "17944/17944 [==============================] - 5041s 281ms/step - loss: 0.2427 - acc: 0.8990 - val_loss: 0.2270 - val_acc: 0.9040\n",
      "Epoch 4/20\n",
      "17944/17944 [==============================] - 4664s 260ms/step - loss: 0.2333 - acc: 0.9029 - val_loss: 0.2258 - val_acc: 0.9043\n",
      "Epoch 5/20\n",
      "17944/17944 [==============================] - 5694s 317ms/step - loss: 0.2281 - acc: 0.9054 - val_loss: 0.2200 - val_acc: 0.9094\n",
      "Epoch 6/20\n",
      "17944/17944 [==============================] - 5774s 322ms/step - loss: 0.2243 - acc: 0.9067 - val_loss: 0.2254 - val_acc: 0.9049\n",
      "Epoch 7/20\n",
      "17944/17944 [==============================] - 5938s 331ms/step - loss: 0.2214 - acc: 0.9077 - val_loss: 0.2212 - val_acc: 0.9073\n",
      "Epoch 8/20\n",
      "17944/17944 [==============================] - 6300s 351ms/step - loss: 0.2189 - acc: 0.9091 - val_loss: 0.2194 - val_acc: 0.9089\n",
      "Epoch 9/20\n",
      "17944/17944 [==============================] - 6343s 353ms/step - loss: 0.2177 - acc: 0.9095 - val_loss: 0.2183 - val_acc: 0.9088\n",
      "Epoch 10/20\n",
      "17944/17944 [==============================] - 5740s 320ms/step - loss: 0.2156 - acc: 0.9104 - val_loss: 0.2172 - val_acc: 0.9091\n",
      "Epoch 11/20\n",
      "17944/17944 [==============================] - 6139s 342ms/step - loss: 0.2147 - acc: 0.9110 - val_loss: 0.2173 - val_acc: 0.9082\n",
      "Epoch 12/20\n",
      "17944/17944 [==============================] - 6803s 379ms/step - loss: 0.2140 - acc: 0.9112 - val_loss: 0.2160 - val_acc: 0.9100\n",
      "Epoch 13/20\n",
      "17944/17944 [==============================] - 4354s 243ms/step - loss: 0.2128 - acc: 0.9118 - val_loss: 0.2151 - val_acc: 0.9101\n",
      "Epoch 14/20\n",
      "17944/17944 [==============================] - 4443s 248ms/step - loss: 0.2122 - acc: 0.9121 - val_loss: 0.2147 - val_acc: 0.9106\n",
      "Epoch 15/20\n",
      "17944/17944 [==============================] - 4429s 247ms/step - loss: 0.2115 - acc: 0.9125 - val_loss: 0.2154 - val_acc: 0.9116\n",
      "Epoch 16/20\n",
      "17944/17944 [==============================] - 4350s 242ms/step - loss: 0.2111 - acc: 0.9125 - val_loss: 0.2150 - val_acc: 0.9110\n",
      "Epoch 17/20\n",
      "17944/17944 [==============================] - 4942s 275ms/step - loss: 0.2101 - acc: 0.9133 - val_loss: 0.2159 - val_acc: 0.9101\n",
      "Epoch 18/20\n",
      "17944/17944 [==============================] - 4267s 238ms/step - loss: 0.2101 - acc: 0.9132 - val_loss: 0.2213 - val_acc: 0.9093\n",
      "Epoch 19/20\n",
      "17944/17944 [==============================] - 5057s 282ms/step - loss: 0.2095 - acc: 0.9138 - val_loss: 0.2208 - val_acc: 0.9084\n",
      "Epoch 20/20\n",
      "17944/17944 [==============================] - 4448s 248ms/step - loss: 0.2092 - acc: 0.9136 - val_loss: 0.2188 - val_acc: 0.9089\n"
     ]
    },
    {
     "data": {
      "text/plain": [
       "<keras.callbacks.History at 0x7fe0f99f0a20>"
      ]
     },
     "execution_count": 8,
     "metadata": {},
     "output_type": "execute_result"
    }
   ],
   "source": [
    "#callbacks\n",
    "class BatchHistory(keras.callbacks.Callback):\n",
    "    def on_train_begin(self, logs={}):\n",
    "        self.losses = []\n",
    "        self.accs = []\n",
    "\n",
    "    def on_batch_end(self, batch, logs={}):\n",
    "        self.losses.append(logs.get('loss'))\n",
    "        self.accs.append(logs.get('acc'))\n",
    "        \n",
    "history = BatchHistory()\n",
    "tensorboard = TensorBoard(log_dir='./logs', histogram_freq=0, batch_size=batch_size, write_graph=True, write_grads=True)\n",
    "modelcheckpoint = ModelCheckpoint('best.h5', monitor='val_loss', verbose=0, save_best_only=True, mode='min', period=1)\n",
    "\n",
    "#batch generator parameters\n",
    "params = {'dim': [(maxlen_text,embedding_size),(maxlen_summ,embedding_size)],\n",
    "          'batch_size': batch_size,\n",
    "          'shuffle': True,\n",
    "         'tokenizer':tokenizer,\n",
    "         'embedding_matrix':embedding_matrix,\n",
    "         'maxlen_text':maxlen_text,\n",
    "         'maxlen_summ':maxlen_summ,\n",
    "         'data_dir':data_dir,\n",
    "         'sample_info':None}\n",
    "\n",
    "#generators\n",
    "training_generator = ContAllGenerator(partition['train'], labels, **params)\n",
    "validation_generator = ContAllGenerator(partition['validation'], labels, **params)\n",
    "\n",
    "# Train model on dataset\n",
    "model.fit_generator(generator=training_generator,\n",
    "                    validation_data=validation_generator,\n",
    "                    use_multiprocessing=True,\n",
    "                    workers=6,\n",
    "                   epochs=epochs,\n",
    "                   callbacks=[tensorboard, modelcheckpoint, history])"
   ]
  },
  {
   "cell_type": "code",
   "execution_count": 9,
   "metadata": {},
   "outputs": [],
   "source": [
    "with open('losses.pickle', 'wb') as handle: pickle.dump(history.losses, handle, protocol=pickle.HIGHEST_PROTOCOL)\n",
    "with open('accs.pickle', 'wb') as handle: pickle.dump(history.accs, handle, protocol=pickle.HIGHEST_PROTOCOL)"
   ]
  },
  {
   "cell_type": "code",
   "execution_count": null,
   "metadata": {},
   "outputs": [],
   "source": []
  }
 ],
 "metadata": {
  "kernelspec": {
   "display_name": "Python 3",
   "language": "python",
   "name": "python3"
  },
  "language_info": {
   "codemirror_mode": {
    "name": "ipython",
    "version": 3
   },
   "file_extension": ".py",
   "mimetype": "text/x-python",
   "name": "python",
   "nbconvert_exporter": "python",
   "pygments_lexer": "ipython3",
   "version": "3.6.4"
  }
 },
 "nbformat": 4,
 "nbformat_minor": 2
}
