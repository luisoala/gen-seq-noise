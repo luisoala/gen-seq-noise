{
 "cells": [
  {
   "cell_type": "code",
   "execution_count": 1,
   "metadata": {},
   "outputs": [
    {
     "data": {
      "text/html": [
       "<style>.container { width:80% !important; }</style>"
      ],
      "text/plain": [
       "<IPython.core.display.HTML object>"
      ]
     },
     "metadata": {},
     "output_type": "display_data"
    }
   ],
   "source": [
    "#cell-width control\n",
    "from IPython.core.display import display, HTML\n",
    "display(HTML(\"<style>.container { width:80% !important; }</style>\"))"
   ]
  },
  {
   "cell_type": "markdown",
   "metadata": {},
   "source": [
    "# Imports"
   ]
  },
  {
   "cell_type": "code",
   "execution_count": 2,
   "metadata": {},
   "outputs": [
    {
     "name": "stderr",
     "output_type": "stream",
     "text": [
      "Using TensorFlow backend.\n"
     ]
    }
   ],
   "source": [
    "#packages\n",
    "import numpy\n",
    "import tensorflow as tf\n",
    "from tensorflow.core.example import example_pb2\n",
    "\n",
    "#utils\n",
    "import os\n",
    "import random\n",
    "import pickle\n",
    "import struct\n",
    "import time\n",
    "from generators import *\n",
    "\n",
    "#keras\n",
    "import keras\n",
    "from keras.preprocessing import text, sequence\n",
    "from keras.preprocessing.text import Tokenizer\n",
    "from keras.models import Model, Sequential\n",
    "from keras.models import load_model\n",
    "from keras.layers import Dense, Dropout, Activation, Concatenate, Dot, Embedding, LSTM, Conv1D, MaxPooling1D, Input, Lambda\n",
    "    #callbacks\n",
    "from keras.callbacks import TensorBoard, ModelCheckpoint, Callback\n"
   ]
  },
  {
   "cell_type": "markdown",
   "metadata": {},
   "source": [
    "# Seeding"
   ]
  },
  {
   "cell_type": "code",
   "execution_count": 3,
   "metadata": {},
   "outputs": [],
   "source": [
    "sd = 4\n",
    "from numpy.random import seed\n",
    "seed(sd)\n",
    "from tensorflow import set_random_seed\n",
    "set_random_seed(sd)"
   ]
  },
  {
   "cell_type": "markdown",
   "metadata": {},
   "source": [
    "# CPU usage"
   ]
  },
  {
   "cell_type": "code",
   "execution_count": 4,
   "metadata": {},
   "outputs": [],
   "source": [
    "#os.environ[\"CUDA_DEVICE_ORDER\"] = \"PCI_BUS_ID\"   # see issue #152\n",
    "#os.environ[\"CUDA_VISIBLE_DEVICES\"] = \"\""
   ]
  },
  {
   "cell_type": "markdown",
   "metadata": {},
   "source": [
    "# Global parameters"
   ]
  },
  {
   "cell_type": "code",
   "execution_count": 5,
   "metadata": {},
   "outputs": [],
   "source": [
    "# Embedding\n",
    "max_features = 400000\n",
    "maxlen_text = 400\n",
    "maxlen_summ = 80\n",
    "embedding_size = 100 #128\n",
    "\n",
    "# Convolution\n",
    "kernel_size = 5\n",
    "filters = 64\n",
    "pool_size = 4\n",
    "\n",
    "# LSTM\n",
    "lstm_output_size = 70\n",
    "\n",
    "# Training\n",
    "batch_size = 32\n",
    "epochs = 20"
   ]
  },
  {
   "cell_type": "markdown",
   "metadata": {},
   "source": [
    "# Load data"
   ]
  },
  {
   "cell_type": "code",
   "execution_count": 6,
   "metadata": {},
   "outputs": [],
   "source": [
    "data_dir = '/mnt/disks/500gb/experimental-data-mini/experimental-data-mini/pseudorandom-dist-1to1/1to1/'\n",
    "processing_dir = '/mnt/disks/500gb/stats-and-meta-data/400000/'\n",
    "\n",
    "with open(data_dir+'partition.pickle', 'rb') as handle: partition = pickle.load(handle)\n",
    "with open(data_dir+'labels.pickle', 'rb') as handle: labels = pickle.load(handle)\n",
    "\n",
    "with open(processing_dir+'tokenizer.pickle', 'rb') as handle: tokenizer = pickle.load(handle)\n",
    "embedding_matrix = numpy.load(processing_dir+'embedding_matrix.npy')\n",
    "\n",
    "#the p_n constant\n",
    "c = 80000"
   ]
  },
  {
   "cell_type": "markdown",
   "metadata": {},
   "source": [
    "# Model"
   ]
  },
  {
   "cell_type": "code",
   "execution_count": 7,
   "metadata": {},
   "outputs": [],
   "source": [
    "#2way input\n",
    "text_input = Input(shape=(maxlen_text,embedding_size), dtype='float32')\n",
    "summ_input = Input(shape=(maxlen_summ,embedding_size), dtype='float32')\n",
    "\n",
    "#2way dropout\n",
    "text_route = Dropout(0.25)(text_input)\n",
    "summ_route = Dropout(0.25)(summ_input)\n",
    "\n",
    "#2way conv\n",
    "text_route = Conv1D(filters,\n",
    "                 kernel_size,\n",
    "                 padding='valid',\n",
    "                 activation='relu',\n",
    "                 strides=1)(text_route)\n",
    "summ_route = Conv1D(filters,\n",
    "                 kernel_size,\n",
    "                 padding='valid',\n",
    "                 activation='relu',\n",
    "                 strides=1)(summ_route)\n",
    "\n",
    "#2way max pool\n",
    "text_route = MaxPooling1D(pool_size=pool_size)(text_route)\n",
    "summ_route = MaxPooling1D(pool_size=pool_size)(summ_route)\n",
    "\n",
    "#2way lstm\n",
    "text_route = LSTM(lstm_output_size)(text_route)\n",
    "summ_route = LSTM(lstm_output_size)(summ_route)\n",
    "\n",
    "#get dot of both routes\n",
    "merged = Dot(axes=1,normalize=True)([text_route, summ_route])\n",
    "\n",
    "#negate results\n",
    "#merged = Lambda(lambda x: -1*x)(merged)\n",
    "\n",
    "#add p_n constant\n",
    "#merged = Lambda(lambda x: x + c)(merged)\n",
    "\n",
    "#output\n",
    "output = Dense(1, activation='sigmoid')(merged)\n",
    "\n",
    "#define model\n",
    "model = Model(inputs=[text_input, summ_input], outputs=[output])\n",
    "\n",
    "model.compile(loss='binary_crossentropy',\n",
    "              optimizer='adam',\n",
    "              metrics=['accuracy'])"
   ]
  },
  {
   "cell_type": "markdown",
   "metadata": {},
   "source": [
    "# Train model"
   ]
  },
  {
   "cell_type": "code",
   "execution_count": 8,
   "metadata": {},
   "outputs": [
    {
     "name": "stdout",
     "output_type": "stream",
     "text": [
      "Epoch 1/20\n",
      "17944/17944 [==============================] - 5309s 296ms/step - loss: 0.3922 - acc: 0.8182 - val_loss: 0.4647 - val_acc: 0.8146\n",
      "Epoch 2/20\n",
      "17944/17944 [==============================] - 5206s 290ms/step - loss: 0.2777 - acc: 0.8842 - val_loss: 0.4407 - val_acc: 0.8303\n",
      "Epoch 3/20\n",
      "17944/17944 [==============================] - 5204s 290ms/step - loss: 0.2573 - acc: 0.8943 - val_loss: 0.4123 - val_acc: 0.8386\n",
      "Epoch 4/20\n",
      "17944/17944 [==============================] - 5185s 289ms/step - loss: 0.2471 - acc: 0.8986 - val_loss: 0.4041 - val_acc: 0.8448\n",
      "Epoch 5/20\n",
      "17944/17944 [==============================] - 5154s 287ms/step - loss: 0.2384 - acc: 0.9032 - val_loss: 0.4050 - val_acc: 0.8438\n",
      "Epoch 6/20\n",
      "17944/17944 [==============================] - 5180s 289ms/step - loss: 0.2311 - acc: 0.9063 - val_loss: 0.3759 - val_acc: 0.8589\n",
      "Epoch 7/20\n",
      "17944/17944 [==============================] - 5180s 289ms/step - loss: 0.2261 - acc: 0.9087 - val_loss: 0.4068 - val_acc: 0.8440\n",
      "Epoch 8/20\n",
      "17944/17944 [==============================] - 5198s 290ms/step - loss: 0.2223 - acc: 0.9110 - val_loss: 0.4001 - val_acc: 0.8495\n",
      "Epoch 9/20\n",
      "17944/17944 [==============================] - 5233s 292ms/step - loss: 0.2188 - acc: 0.9128 - val_loss: 0.4025 - val_acc: 0.8478\n",
      "Epoch 10/20\n",
      "17944/17944 [==============================] - 5254s 293ms/step - loss: 0.2166 - acc: 0.9133 - val_loss: 0.3750 - val_acc: 0.8549\n",
      "Epoch 11/20\n",
      "17944/17944 [==============================] - 5283s 294ms/step - loss: 0.2146 - acc: 0.9147 - val_loss: 0.3961 - val_acc: 0.8508\n",
      "Epoch 12/20\n",
      "17944/17944 [==============================] - 5290s 295ms/step - loss: 0.2127 - acc: 0.9155 - val_loss: 0.3724 - val_acc: 0.8585\n",
      "Epoch 13/20\n",
      "17944/17944 [==============================] - 5252s 293ms/step - loss: 0.2128 - acc: 0.9156 - val_loss: 0.3775 - val_acc: 0.8591\n",
      "Epoch 14/20\n",
      "17944/17944 [==============================] - 5248s 292ms/step - loss: 0.2120 - acc: 0.9155 - val_loss: 0.3822 - val_acc: 0.8554\n",
      "Epoch 15/20\n",
      "17944/17944 [==============================] - 5268s 294ms/step - loss: 0.2106 - acc: 0.9166 - val_loss: 0.3739 - val_acc: 0.8584\n",
      "Epoch 16/20\n",
      "17944/17944 [==============================] - 5580s 311ms/step - loss: 0.2099 - acc: 0.9171 - val_loss: 0.3819 - val_acc: 0.8563\n",
      "Epoch 17/20\n",
      "17944/17944 [==============================] - 5701s 318ms/step - loss: 0.2088 - acc: 0.9171 - val_loss: 0.3756 - val_acc: 0.8559\n",
      "Epoch 18/20\n",
      "17944/17944 [==============================] - 5660s 315ms/step - loss: 0.2077 - acc: 0.9175 - val_loss: 0.3825 - val_acc: 0.8595\n",
      "Epoch 19/20\n",
      "17944/17944 [==============================] - 5633s 314ms/step - loss: 0.2067 - acc: 0.9182 - val_loss: 0.3548 - val_acc: 0.8629\n",
      "Epoch 20/20\n",
      "17944/17944 [==============================] - 5560s 310ms/step - loss: 0.2065 - acc: 0.9183 - val_loss: 0.3604 - val_acc: 0.8659\n"
     ]
    },
    {
     "data": {
      "text/plain": [
       "<keras.callbacks.History at 0x7fd1c74a1278>"
      ]
     },
     "execution_count": 8,
     "metadata": {},
     "output_type": "execute_result"
    }
   ],
   "source": [
    "#callbacks\n",
    "class BatchHistory(keras.callbacks.Callback):\n",
    "    def on_train_begin(self, logs={}):\n",
    "        self.losses = []\n",
    "        self.accs = []\n",
    "\n",
    "    def on_batch_end(self, batch, logs={}):\n",
    "        self.losses.append(logs.get('loss'))\n",
    "        self.accs.append(logs.get('acc'))\n",
    "        \n",
    "history = BatchHistory()\n",
    "tensorboard = TensorBoard(log_dir='./logs', histogram_freq=0, batch_size=batch_size, write_graph=True, write_grads=True)\n",
    "modelcheckpoint = ModelCheckpoint('best.h5', monitor='val_loss', verbose=0, save_best_only=True, mode='min', period=1)\n",
    "\n",
    "#batch generator parameters\n",
    "params = {'dim': [(maxlen_text,embedding_size),(maxlen_summ,embedding_size)],\n",
    "          'batch_size': batch_size,\n",
    "          'shuffle': True,\n",
    "         'tokenizer':tokenizer,\n",
    "         'embedding_matrix':embedding_matrix,\n",
    "         'maxlen_text':maxlen_text,\n",
    "         'maxlen_summ':maxlen_summ,\n",
    "         'data_dir':data_dir,\n",
    "         'sample_info':None}\n",
    "\n",
    "#generators\n",
    "training_generator = ContAllGenerator(partition['train'], labels, **params)\n",
    "validation_generator = ContAllGenerator(partition['validation'], labels, **params)\n",
    "\n",
    "# Train model on dataset\n",
    "model.fit_generator(generator=training_generator,\n",
    "                    validation_data=validation_generator,\n",
    "                    use_multiprocessing=True,\n",
    "                    workers=5,\n",
    "                   epochs=epochs,\n",
    "                   callbacks=[tensorboard, modelcheckpoint, history])"
   ]
  },
  {
   "cell_type": "code",
   "execution_count": 9,
   "metadata": {},
   "outputs": [],
   "source": [
    "with open('losses.pickle', 'wb') as handle: pickle.dump(history.losses, handle, protocol=pickle.HIGHEST_PROTOCOL)\n",
    "with open('accs.pickle', 'wb') as handle: pickle.dump(history.accs, handle, protocol=pickle.HIGHEST_PROTOCOL)"
   ]
  },
  {
   "cell_type": "code",
   "execution_count": 10,
   "metadata": {},
   "outputs": [
    {
     "name": "stdout",
     "output_type": "stream",
     "text": [
      "358880\n"
     ]
    }
   ],
   "source": [
    "print(len(history.accs))"
   ]
  },
  {
   "cell_type": "code",
   "execution_count": null,
   "metadata": {},
   "outputs": [],
   "source": []
  }
 ],
 "metadata": {
  "kernelspec": {
   "display_name": "Python ml",
   "language": "python",
   "name": "ml"
  },
  "language_info": {
   "codemirror_mode": {
    "name": "ipython",
    "version": 3
   },
   "file_extension": ".py",
   "mimetype": "text/x-python",
   "name": "python",
   "nbconvert_exporter": "python",
   "pygments_lexer": "ipython3",
   "version": "3.6.5"
  }
 },
 "nbformat": 4,
 "nbformat_minor": 2
}
