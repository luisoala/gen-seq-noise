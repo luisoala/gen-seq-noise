{
 "cells": [
  {
   "cell_type": "code",
   "execution_count": 1,
   "metadata": {},
   "outputs": [
    {
     "data": {
      "text/html": [
       "<style>.container { width:80% !important; }</style>"
      ],
      "text/plain": [
       "<IPython.core.display.HTML object>"
      ]
     },
     "metadata": {},
     "output_type": "display_data"
    }
   ],
   "source": [
    "#cell-width control\n",
    "from IPython.core.display import display, HTML\n",
    "display(HTML(\"<style>.container { width:80% !important; }</style>\"))"
   ]
  },
  {
   "cell_type": "markdown",
   "metadata": {},
   "source": [
    "# Imports"
   ]
  },
  {
   "cell_type": "code",
   "execution_count": 2,
   "metadata": {},
   "outputs": [
    {
     "name": "stderr",
     "output_type": "stream",
     "text": [
      "Using TensorFlow backend.\n"
     ]
    }
   ],
   "source": [
    "#packages\n",
    "import numpy\n",
    "import tensorflow as tf\n",
    "from tensorflow.core.example import example_pb2\n",
    "\n",
    "#utils\n",
    "import os\n",
    "import random\n",
    "import pickle\n",
    "import struct\n",
    "import time\n",
    "from generators import *\n",
    "\n",
    "#keras\n",
    "import keras\n",
    "from keras.preprocessing import text, sequence\n",
    "from keras.preprocessing.text import Tokenizer\n",
    "from keras.models import Model, Sequential\n",
    "from keras.models import load_model\n",
    "from keras.layers import Dense, Dropout, Activation, Concatenate, Dot, Embedding, LSTM, Conv1D, MaxPooling1D, Input, Lambda\n",
    "    #callbacks\n",
    "from keras.callbacks import TensorBoard, ModelCheckpoint, Callback\n"
   ]
  },
  {
   "cell_type": "markdown",
   "metadata": {},
   "source": [
    "# Seeding"
   ]
  },
  {
   "cell_type": "code",
   "execution_count": 3,
   "metadata": {},
   "outputs": [],
   "source": [
    "sd = 2\n",
    "from numpy.random import seed\n",
    "seed(sd)\n",
    "from tensorflow import set_random_seed\n",
    "set_random_seed(sd)"
   ]
  },
  {
   "cell_type": "markdown",
   "metadata": {},
   "source": [
    "# CPU usage"
   ]
  },
  {
   "cell_type": "code",
   "execution_count": 4,
   "metadata": {},
   "outputs": [],
   "source": [
    "#os.environ[\"CUDA_DEVICE_ORDER\"] = \"PCI_BUS_ID\"   # see issue #152\n",
    "#os.environ[\"CUDA_VISIBLE_DEVICES\"] = \"\""
   ]
  },
  {
   "cell_type": "markdown",
   "metadata": {},
   "source": [
    "# Global parameters"
   ]
  },
  {
   "cell_type": "code",
   "execution_count": 5,
   "metadata": {},
   "outputs": [],
   "source": [
    "# Embedding\n",
    "max_features = 400000\n",
    "maxlen_text = 400\n",
    "maxlen_summ = 80\n",
    "embedding_size = 100 #128\n",
    "\n",
    "# Convolution\n",
    "kernel_size = 5\n",
    "filters = 64\n",
    "pool_size = 4\n",
    "\n",
    "# LSTM\n",
    "lstm_output_size = 70\n",
    "\n",
    "# Training\n",
    "batch_size = 32\n",
    "epochs = 20"
   ]
  },
  {
   "cell_type": "markdown",
   "metadata": {},
   "source": [
    "# Load data"
   ]
  },
  {
   "cell_type": "code",
   "execution_count": 6,
   "metadata": {},
   "outputs": [],
   "source": [
    "data_dir = '/mnt/disks/500gb/experimental-data-mini/experimental-data-mini/pseudorandom-dist-1to1/1to1/'\n",
    "processing_dir = '/mnt/disks/500gb/stats-and-meta-data/400000/'\n",
    "\n",
    "with open(data_dir+'partition.pickle', 'rb') as handle: partition = pickle.load(handle)\n",
    "with open(data_dir+'labels.pickle', 'rb') as handle: labels = pickle.load(handle)\n",
    "\n",
    "with open(processing_dir+'tokenizer.pickle', 'rb') as handle: tokenizer = pickle.load(handle)\n",
    "embedding_matrix = numpy.load(processing_dir+'embedding_matrix.npy')\n",
    "\n",
    "#the p_n constant\n",
    "c = 80000"
   ]
  },
  {
   "cell_type": "markdown",
   "metadata": {},
   "source": [
    "# Model"
   ]
  },
  {
   "cell_type": "code",
   "execution_count": 7,
   "metadata": {},
   "outputs": [],
   "source": [
    "#2way input\n",
    "text_input = Input(shape=(maxlen_text,embedding_size), dtype='float32')\n",
    "summ_input = Input(shape=(maxlen_summ,embedding_size), dtype='float32')\n",
    "\n",
    "#2way dropout\n",
    "text_route = Dropout(0.25)(text_input)\n",
    "summ_route = Dropout(0.25)(summ_input)\n",
    "\n",
    "#2way conv\n",
    "text_route = Conv1D(filters,\n",
    "                 kernel_size,\n",
    "                 padding='valid',\n",
    "                 activation='relu',\n",
    "                 strides=1)(text_route)\n",
    "summ_route = Conv1D(filters,\n",
    "                 kernel_size,\n",
    "                 padding='valid',\n",
    "                 activation='relu',\n",
    "                 strides=1)(summ_route)\n",
    "\n",
    "#2way max pool\n",
    "text_route = MaxPooling1D(pool_size=pool_size)(text_route)\n",
    "summ_route = MaxPooling1D(pool_size=pool_size)(summ_route)\n",
    "\n",
    "#2way lstm\n",
    "text_route = LSTM(lstm_output_size)(text_route)\n",
    "summ_route = LSTM(lstm_output_size)(summ_route)\n",
    "\n",
    "#get dot of both routes\n",
    "merged = Dot(axes=1,normalize=True)([text_route, summ_route])\n",
    "\n",
    "#negate results\n",
    "#merged = Lambda(lambda x: -1*x)(merged)\n",
    "\n",
    "#add p_n constant\n",
    "#merged = Lambda(lambda x: x + c)(merged)\n",
    "\n",
    "#output\n",
    "output = Dense(1, activation='sigmoid')(merged)\n",
    "\n",
    "#define model\n",
    "model = Model(inputs=[text_input, summ_input], outputs=[output])\n",
    "\n",
    "model.compile(loss='binary_crossentropy',\n",
    "              optimizer='adam',\n",
    "              metrics=['accuracy'])"
   ]
  },
  {
   "cell_type": "markdown",
   "metadata": {},
   "source": [
    "# Train model"
   ]
  },
  {
   "cell_type": "code",
   "execution_count": 8,
   "metadata": {},
   "outputs": [
    {
     "name": "stdout",
     "output_type": "stream",
     "text": [
      "Epoch 1/20\n",
      "17944/17944 [==============================] - 5464s 305ms/step - loss: 0.3811 - acc: 0.8252 - val_loss: 0.4536 - val_acc: 0.8220\n",
      "Epoch 2/20\n",
      "17944/17944 [==============================] - 5275s 294ms/step - loss: 0.2751 - acc: 0.8857 - val_loss: 0.4132 - val_acc: 0.8383\n",
      "Epoch 3/20\n",
      "17944/17944 [==============================] - 5282s 294ms/step - loss: 0.2509 - acc: 0.8973 - val_loss: 0.3863 - val_acc: 0.8485\n",
      "Epoch 4/20\n",
      "17944/17944 [==============================] - 5244s 292ms/step - loss: 0.2383 - acc: 0.9035 - val_loss: 0.4005 - val_acc: 0.8463\n",
      "Epoch 5/20\n",
      "17944/17944 [==============================] - 5235s 292ms/step - loss: 0.2306 - acc: 0.9068 - val_loss: 0.3882 - val_acc: 0.8510\n",
      "Epoch 6/20\n",
      "17944/17944 [==============================] - 5242s 292ms/step - loss: 0.2247 - acc: 0.9099 - val_loss: 0.3943 - val_acc: 0.8518\n",
      "Epoch 7/20\n",
      "17944/17944 [==============================] - 5253s 293ms/step - loss: 0.2206 - acc: 0.9117 - val_loss: 0.3814 - val_acc: 0.8554\n",
      "Epoch 8/20\n",
      "17944/17944 [==============================] - 5270s 294ms/step - loss: 0.2163 - acc: 0.9137 - val_loss: 0.3807 - val_acc: 0.8558\n",
      "Epoch 9/20\n",
      "17944/17944 [==============================] - 5301s 295ms/step - loss: 0.2134 - acc: 0.9153 - val_loss: 0.3801 - val_acc: 0.8560\n",
      "Epoch 10/20\n",
      "17944/17944 [==============================] - 5325s 297ms/step - loss: 0.2116 - acc: 0.9158 - val_loss: 0.3522 - val_acc: 0.8621\n",
      "Epoch 11/20\n",
      "17944/17944 [==============================] - 5376s 300ms/step - loss: 0.2094 - acc: 0.9167 - val_loss: 0.3784 - val_acc: 0.8566\n",
      "Epoch 12/20\n",
      "17944/17944 [==============================] - 5360s 299ms/step - loss: 0.2092 - acc: 0.9169 - val_loss: 0.3742 - val_acc: 0.8610\n",
      "Epoch 13/20\n",
      "17944/17944 [==============================] - 5321s 297ms/step - loss: 0.2079 - acc: 0.9178 - val_loss: 0.3904 - val_acc: 0.8543\n",
      "Epoch 14/20\n",
      "17944/17944 [==============================] - 5315s 296ms/step - loss: 0.2063 - acc: 0.9185 - val_loss: 0.3753 - val_acc: 0.8606\n",
      "Epoch 15/20\n",
      "17944/17944 [==============================] - 5333s 297ms/step - loss: 0.2058 - acc: 0.9182 - val_loss: 0.3633 - val_acc: 0.8615\n",
      "Epoch 16/20\n",
      "17944/17944 [==============================] - 5757s 321ms/step - loss: 0.2052 - acc: 0.9189 - val_loss: 0.3865 - val_acc: 0.8588\n",
      "Epoch 17/20\n",
      "17944/17944 [==============================] - 5787s 322ms/step - loss: 0.2047 - acc: 0.9190 - val_loss: 0.4062 - val_acc: 0.8548\n",
      "Epoch 18/20\n",
      "17944/17944 [==============================] - 5754s 321ms/step - loss: 0.2037 - acc: 0.9191 - val_loss: 0.3777 - val_acc: 0.8622\n",
      "Epoch 19/20\n",
      "17944/17944 [==============================] - 5726s 319ms/step - loss: 0.2030 - acc: 0.9197 - val_loss: 0.3569 - val_acc: 0.8655\n",
      "Epoch 20/20\n",
      "17944/17944 [==============================] - 4775s 266ms/step - loss: 0.2020 - acc: 0.9204 - val_loss: 0.3650 - val_acc: 0.8627\n"
     ]
    },
    {
     "data": {
      "text/plain": [
       "<keras.callbacks.History at 0x7f4405e3c1d0>"
      ]
     },
     "execution_count": 8,
     "metadata": {},
     "output_type": "execute_result"
    }
   ],
   "source": [
    "#callbacks\n",
    "class BatchHistory(keras.callbacks.Callback):\n",
    "    def on_train_begin(self, logs={}):\n",
    "        self.losses = []\n",
    "        self.accs = []\n",
    "\n",
    "    def on_batch_end(self, batch, logs={}):\n",
    "        self.losses.append(logs.get('loss'))\n",
    "        self.accs.append(logs.get('acc'))\n",
    "        \n",
    "history = BatchHistory()\n",
    "tensorboard = TensorBoard(log_dir='./logs', histogram_freq=0, batch_size=batch_size, write_graph=True, write_grads=True)\n",
    "modelcheckpoint = ModelCheckpoint('best.h5', monitor='val_loss', verbose=0, save_best_only=True, mode='min', period=1)\n",
    "\n",
    "#batch generator parameters\n",
    "params = {'dim': [(maxlen_text,embedding_size),(maxlen_summ,embedding_size)],\n",
    "          'batch_size': batch_size,\n",
    "          'shuffle': True,\n",
    "         'tokenizer':tokenizer,\n",
    "         'embedding_matrix':embedding_matrix,\n",
    "         'maxlen_text':maxlen_text,\n",
    "         'maxlen_summ':maxlen_summ,\n",
    "         'data_dir':data_dir,\n",
    "         'sample_info':None}\n",
    "\n",
    "#generators\n",
    "training_generator = ContAllGenerator(partition['train'], labels, **params)\n",
    "validation_generator = ContAllGenerator(partition['validation'], labels, **params)\n",
    "\n",
    "# Train model on dataset\n",
    "model.fit_generator(generator=training_generator,\n",
    "                    validation_data=validation_generator,\n",
    "                    use_multiprocessing=True,\n",
    "                    workers=5,\n",
    "                   epochs=epochs,\n",
    "                   callbacks=[tensorboard, modelcheckpoint, history])"
   ]
  },
  {
   "cell_type": "code",
   "execution_count": 9,
   "metadata": {},
   "outputs": [],
   "source": [
    "with open('losses.pickle', 'wb') as handle: pickle.dump(history.losses, handle, protocol=pickle.HIGHEST_PROTOCOL)\n",
    "with open('accs.pickle', 'wb') as handle: pickle.dump(history.accs, handle, protocol=pickle.HIGHEST_PROTOCOL)"
   ]
  },
  {
   "cell_type": "code",
   "execution_count": 10,
   "metadata": {},
   "outputs": [
    {
     "name": "stdout",
     "output_type": "stream",
     "text": [
      "358880\n"
     ]
    }
   ],
   "source": [
    "print(len(history.accs))"
   ]
  },
  {
   "cell_type": "code",
   "execution_count": null,
   "metadata": {},
   "outputs": [],
   "source": []
  }
 ],
 "metadata": {
  "kernelspec": {
   "display_name": "Python ml",
   "language": "python",
   "name": "ml"
  },
  "language_info": {
   "codemirror_mode": {
    "name": "ipython",
    "version": 3
   },
   "file_extension": ".py",
   "mimetype": "text/x-python",
   "name": "python",
   "nbconvert_exporter": "python",
   "pygments_lexer": "ipython3",
   "version": "3.6.5"
  }
 },
 "nbformat": 4,
 "nbformat_minor": 2
}
