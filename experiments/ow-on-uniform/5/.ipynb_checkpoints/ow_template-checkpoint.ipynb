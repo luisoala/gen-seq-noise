{
 "cells": [
  {
   "cell_type": "code",
   "execution_count": 1,
   "metadata": {},
   "outputs": [
    {
     "data": {
      "text/html": [
       "<style>.container { width:80% !important; }</style>"
      ],
      "text/plain": [
       "<IPython.core.display.HTML object>"
      ]
     },
     "metadata": {},
     "output_type": "display_data"
    }
   ],
   "source": [
    "#cell-width control\n",
    "from IPython.core.display import display, HTML\n",
    "display(HTML(\"<style>.container { width:80% !important; }</style>\"))"
   ]
  },
  {
   "cell_type": "markdown",
   "metadata": {},
   "source": [
    "# Imports"
   ]
  },
  {
   "cell_type": "code",
   "execution_count": 2,
   "metadata": {},
   "outputs": [
    {
     "name": "stderr",
     "output_type": "stream",
     "text": [
      "Using TensorFlow backend.\n"
     ]
    }
   ],
   "source": [
    "#packages\n",
    "import numpy\n",
    "import tensorflow as tf\n",
    "from tensorflow.core.example import example_pb2\n",
    "\n",
    "#utils\n",
    "import os\n",
    "import random\n",
    "import pickle\n",
    "import struct\n",
    "import time\n",
    "from generators import *\n",
    "\n",
    "#keras\n",
    "import keras\n",
    "from keras.preprocessing import text, sequence\n",
    "from keras.preprocessing.text import Tokenizer\n",
    "from keras.models import Model, Sequential\n",
    "from keras.models import load_model\n",
    "from keras.layers import Dense, Dropout, Activation, Concatenate, Dot, Embedding, LSTM, Conv1D, MaxPooling1D, Input, Lambda\n",
    "    #callbacks\n",
    "from keras.callbacks import TensorBoard, ModelCheckpoint, Callback\n"
   ]
  },
  {
   "cell_type": "markdown",
   "metadata": {},
   "source": [
    "# Seed"
   ]
  },
  {
   "cell_type": "code",
   "execution_count": 3,
   "metadata": {},
   "outputs": [],
   "source": [
    "sd = 5\n",
    "from numpy.random import seed\n",
    "seed(sd)\n",
    "from tensorflow import set_random_seed\n",
    "set_random_seed(sd)"
   ]
  },
  {
   "cell_type": "markdown",
   "metadata": {},
   "source": [
    "# CPU usage"
   ]
  },
  {
   "cell_type": "code",
   "execution_count": 4,
   "metadata": {},
   "outputs": [],
   "source": [
    "#os.environ[\"CUDA_DEVICE_ORDER\"] = \"PCI_BUS_ID\"   # see issue #152\n",
    "#os.environ[\"CUDA_VISIBLE_DEVICES\"] = \"\""
   ]
  },
  {
   "cell_type": "markdown",
   "metadata": {},
   "source": [
    "# Global parameters"
   ]
  },
  {
   "cell_type": "code",
   "execution_count": 5,
   "metadata": {},
   "outputs": [],
   "source": [
    "# Embedding\n",
    "max_features = 400000\n",
    "maxlen_text = 400\n",
    "maxlen_summ = 80\n",
    "embedding_size = 100 #128\n",
    "\n",
    "# Convolution\n",
    "kernel_size = 5\n",
    "filters = 64\n",
    "pool_size = 4\n",
    "\n",
    "# LSTM\n",
    "lstm_output_size = 70\n",
    "\n",
    "# Training\n",
    "batch_size = 32\n",
    "epochs = 3"
   ]
  },
  {
   "cell_type": "markdown",
   "metadata": {},
   "source": [
    "# Load data"
   ]
  },
  {
   "cell_type": "code",
   "execution_count": 6,
   "metadata": {},
   "outputs": [],
   "source": [
    "data_dir = '/mnt/disks/500gb/experimental-data-mini/experimental-data-mini/pseudorandom-dist-1to1/1to1/'\n",
    "processing_dir = '/mnt/disks/500gb/stats-and-meta-data/400000/'\n",
    "\n",
    "with open(data_dir+'partition.pickle', 'rb') as handle: partition = pickle.load(handle)\n",
    "with open(data_dir+'labels.pickle', 'rb') as handle: labels = pickle.load(handle)\n",
    "\n",
    "with open(processing_dir+'tokenizer.pickle', 'rb') as handle: tokenizer = pickle.load(handle)\n",
    "embedding_matrix = numpy.load(processing_dir+'embedding_matrix.npy')\n",
    "\n",
    "#the p_n constant\n",
    "c = 80000\n",
    "\n",
    "#stats\n",
    "maxi = numpy.load(processing_dir+'training-stats-all/maxi.npy')\n",
    "mini = numpy.load(processing_dir+'training-stats-all/mini.npy')\n",
    "sample_info = (numpy.random.uniform, mini,maxi)"
   ]
  },
  {
   "cell_type": "markdown",
   "metadata": {},
   "source": [
    "# Model"
   ]
  },
  {
   "cell_type": "code",
   "execution_count": 7,
   "metadata": {},
   "outputs": [],
   "source": [
    "#2way input\n",
    "text_input = Input(shape=(maxlen_text,embedding_size), dtype='float32')\n",
    "summ_input = Input(shape=(maxlen_summ,embedding_size), dtype='float32')\n",
    "\n",
    "#1way dropout\n",
    "#text_route = Dropout(0.25)(text_input)\n",
    "summ_route = Dropout(0.25)(summ_input)\n",
    "\n",
    "#1way conv\n",
    "#text_route = Conv1D(filters,\n",
    "                 #kernel_size,\n",
    "                 #padding='valid',\n",
    "                 #activation='relu',\n",
    "                 #strides=1)(text_route)\n",
    "summ_route = Conv1D(filters,\n",
    "                 kernel_size,\n",
    "                 padding='valid',\n",
    "                 activation='relu',\n",
    "                 strides=1)(summ_route)\n",
    "\n",
    "#1way max pool\n",
    "#text_route = MaxPooling1D(pool_size=pool_size)(text_route)\n",
    "summ_route = MaxPooling1D(pool_size=pool_size)(summ_route)\n",
    "\n",
    "#1way lstm\n",
    "#text_route = LSTM(lstm_output_size)(text_route)\n",
    "summ_route = LSTM(lstm_output_size)(summ_route)\n",
    "\n",
    "#negate results\n",
    "#merged = Lambda(lambda x: -1*x)(merged)\n",
    "\n",
    "#add p_n constant\n",
    "#merged = Lambda(lambda x: x + c)(merged)\n",
    "\n",
    "#output\n",
    "output = Dense(1, activation='sigmoid')(summ_route)\n",
    "\n",
    "#define model\n",
    "model = Model(inputs=[text_input, summ_input], outputs=[output])\n",
    "\n",
    "model.compile(loss='binary_crossentropy',\n",
    "              optimizer='adam',\n",
    "              metrics=['accuracy'])"
   ]
  },
  {
   "cell_type": "code",
   "execution_count": 8,
   "metadata": {},
   "outputs": [
    {
     "name": "stdout",
     "output_type": "stream",
     "text": [
      "_________________________________________________________________\n",
      "Layer (type)                 Output Shape              Param #   \n",
      "=================================================================\n",
      "input_2 (InputLayer)         (None, 80, 100)           0         \n",
      "_________________________________________________________________\n",
      "dropout_1 (Dropout)          (None, 80, 100)           0         \n",
      "_________________________________________________________________\n",
      "conv1d_1 (Conv1D)            (None, 76, 64)            32064     \n",
      "_________________________________________________________________\n",
      "max_pooling1d_1 (MaxPooling1 (None, 19, 64)            0         \n",
      "_________________________________________________________________\n",
      "lstm_1 (LSTM)                (None, 70)                37800     \n",
      "_________________________________________________________________\n",
      "dense_1 (Dense)              (None, 1)                 71        \n",
      "=================================================================\n",
      "Total params: 69,935\n",
      "Trainable params: 69,935\n",
      "Non-trainable params: 0\n",
      "_________________________________________________________________\n",
      "None\n"
     ]
    }
   ],
   "source": [
    "print(model.summary())"
   ]
  },
  {
   "cell_type": "markdown",
   "metadata": {},
   "source": [
    "# Train model"
   ]
  },
  {
   "cell_type": "code",
   "execution_count": 9,
   "metadata": {},
   "outputs": [
    {
     "name": "stdout",
     "output_type": "stream",
     "text": [
      "Epoch 1/3\n",
      "17944/17944 [==============================] - 2922s 163ms/step - loss: 2.8624e-04 - acc: 0.9999 - val_loss: 1.0971e-07 - val_acc: 1.0000\n",
      "Epoch 2/3\n",
      "17944/17944 [==============================] - 2180s 121ms/step - loss: 1.0961e-07 - acc: 1.0000 - val_loss: 1.0961e-07 - val_acc: 1.0000\n",
      "Epoch 3/3\n",
      "17944/17944 [==============================] - 1566s 87ms/step - loss: 1.0961e-07 - acc: 1.0000 - val_loss: 1.0961e-07 - val_acc: 1.0000\n"
     ]
    },
    {
     "data": {
      "text/plain": [
       "<keras.callbacks.History at 0x7fb7ec1b2f60>"
      ]
     },
     "execution_count": 9,
     "metadata": {},
     "output_type": "execute_result"
    }
   ],
   "source": [
    "#callbacks\n",
    "class BatchHistory(keras.callbacks.Callback):\n",
    "    def on_train_begin(self, logs={}):\n",
    "        self.losses = []\n",
    "        self.accs = []\n",
    "\n",
    "    def on_batch_end(self, batch, logs={}):\n",
    "        self.losses.append(logs.get('loss'))\n",
    "        self.accs.append(logs.get('acc'))\n",
    "        \n",
    "history = BatchHistory()\n",
    "tensorboard = TensorBoard(log_dir='./logs', histogram_freq=0, batch_size=batch_size, write_graph=True, write_grads=True)\n",
    "modelcheckpoint = ModelCheckpoint('best.h5', monitor='val_loss', verbose=0, save_best_only=True, mode='min', period=1)\n",
    "\n",
    "#batch generator parameters\n",
    "params = {'dim': [(maxlen_text,embedding_size),(maxlen_summ,embedding_size)],\n",
    "          'batch_size': batch_size,\n",
    "          'shuffle': True,\n",
    "         'tokenizer':tokenizer,\n",
    "         'embedding_matrix':embedding_matrix,\n",
    "         'maxlen_text':maxlen_text,\n",
    "         'maxlen_summ':maxlen_summ,\n",
    "         'data_dir':data_dir,\n",
    "         'sample_info':sample_info}\n",
    "\n",
    "#generators\n",
    "training_generator = TwoQuartGenerator(partition['train'], labels, **params)\n",
    "validation_generator = TwoQuartGenerator(partition['validation'], labels, **params)\n",
    "\n",
    "# Train model on dataset\n",
    "model.fit_generator(generator=training_generator,\n",
    "                    validation_data=validation_generator,\n",
    "                    use_multiprocessing=True,\n",
    "                    workers=5,\n",
    "                   epochs=epochs,\n",
    "                   callbacks=[tensorboard, modelcheckpoint, history])"
   ]
  },
  {
   "cell_type": "code",
   "execution_count": 10,
   "metadata": {},
   "outputs": [],
   "source": [
    "with open('losses.pickle', 'wb') as handle: pickle.dump(history.losses, handle, protocol=pickle.HIGHEST_PROTOCOL)\n",
    "with open('accs.pickle', 'wb') as handle: pickle.dump(history.accs, handle, protocol=pickle.HIGHEST_PROTOCOL)"
   ]
  },
  {
   "cell_type": "code",
   "execution_count": null,
   "metadata": {},
   "outputs": [],
   "source": []
  }
 ],
 "metadata": {
  "kernelspec": {
   "display_name": "Python ml",
   "language": "python",
   "name": "ml"
  },
  "language_info": {
   "codemirror_mode": {
    "name": "ipython",
    "version": 3
   },
   "file_extension": ".py",
   "mimetype": "text/x-python",
   "name": "python",
   "nbconvert_exporter": "python",
   "pygments_lexer": "ipython3",
   "version": "3.6.5"
  }
 },
 "nbformat": 4,
 "nbformat_minor": 2
}
