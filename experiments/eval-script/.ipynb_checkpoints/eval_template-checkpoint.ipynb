{
 "cells": [
  {
   "cell_type": "code",
   "execution_count": 1,
   "metadata": {},
   "outputs": [
    {
     "data": {
      "text/html": [
       "<style>.container { width:80% !important; }</style>"
      ],
      "text/plain": [
       "<IPython.core.display.HTML object>"
      ]
     },
     "metadata": {},
     "output_type": "display_data"
    }
   ],
   "source": [
    "#cell-width control\n",
    "from IPython.core.display import display, HTML\n",
    "display(HTML(\"<style>.container { width:80% !important; }</style>\"))"
   ]
  },
  {
   "cell_type": "markdown",
   "metadata": {},
   "source": [
    "# Imports"
   ]
  },
  {
   "cell_type": "code",
   "execution_count": 2,
   "metadata": {},
   "outputs": [
    {
     "name": "stderr",
     "output_type": "stream",
     "text": [
      "Using TensorFlow backend.\n"
     ]
    }
   ],
   "source": [
    "#packages\n",
    "import numpy\n",
    "import tensorflow as tf\n",
    "from tensorflow.core.example import example_pb2\n",
    "\n",
    "#utils\n",
    "import os\n",
    "import random\n",
    "import pickle\n",
    "import struct\n",
    "import time\n",
    "from generators import *\n",
    "\n",
    "#keras\n",
    "import keras\n",
    "from keras.preprocessing import text, sequence\n",
    "from keras.preprocessing.text import Tokenizer\n",
    "from keras.models import Model, Sequential\n",
    "from keras.models import load_model\n",
    "from keras.layers import Dense, Dropout, Activation, Concatenate, Dot, Embedding, LSTM, Conv1D, MaxPooling1D, Input, Lambda\n",
    "    #callbacks\n",
    "from keras.callbacks import TensorBoard, ModelCheckpoint, Callback\n"
   ]
  },
  {
   "cell_type": "markdown",
   "metadata": {},
   "source": [
    "# CPU usage"
   ]
  },
  {
   "cell_type": "code",
   "execution_count": 3,
   "metadata": {},
   "outputs": [],
   "source": [
    "#os.environ[\"CUDA_DEVICE_ORDER\"] = \"PCI_BUS_ID\"   # see issue #152\n",
    "#os.environ[\"CUDA_VISIBLE_DEVICES\"] = \"\""
   ]
  },
  {
   "cell_type": "markdown",
   "metadata": {},
   "source": [
    "# Global parameters"
   ]
  },
  {
   "cell_type": "code",
   "execution_count": 4,
   "metadata": {},
   "outputs": [],
   "source": [
    "# Embedding\n",
    "max_features = 400000\n",
    "maxlen_text = 400\n",
    "maxlen_summ = 80\n",
    "embedding_size = 100 #128\n",
    "\n",
    "# Convolution\n",
    "kernel_size = 5\n",
    "filters = 64\n",
    "pool_size = 4\n",
    "\n",
    "# LSTM\n",
    "lstm_output_size = 70\n",
    "\n",
    "# Training\n",
    "batch_size = 32\n",
    "epochs = 5"
   ]
  },
  {
   "cell_type": "markdown",
   "metadata": {},
   "source": [
    "# Model"
   ]
  },
  {
   "cell_type": "code",
   "execution_count": 5,
   "metadata": {},
   "outputs": [],
   "source": [
    "model_path = '/home/donald/documents/MT/implementation-and-experiments/exciting-crazy/experiments/ow-on-pseudorandom/1/best.h5'\n",
    "model = load_model(model_path)"
   ]
  },
  {
   "cell_type": "markdown",
   "metadata": {},
   "source": [
    "# Predict on only clean"
   ]
  },
  {
   "cell_type": "markdown",
   "metadata": {},
   "source": [
    "### Get data"
   ]
  },
  {
   "cell_type": "code",
   "execution_count": 6,
   "metadata": {},
   "outputs": [],
   "source": [
    "data_dir = '/mnt/disks/500gb/experimental-data-mini/experimental-data-mini/evaluation-data/test-onlyclean/only-clean/'\n",
    "processing_dir = '/mnt/disks/500gb/stats-and-meta-data/400000/'\n",
    "\n",
    "with open(data_dir+'partition.pickle', 'rb') as handle: partition = pickle.load(handle)\n",
    "with open(data_dir+'labels.pickle', 'rb') as handle: labels = pickle.load(handle)\n",
    "\n",
    "with open(processing_dir+'tokenizer.pickle', 'rb') as handle: tokenizer = pickle.load(handle)\n",
    "embedding_matrix = numpy.load(processing_dir+'embedding_matrix.npy')\n",
    "\n",
    "#the p_n constant\n",
    "c = 80000\n",
    "\n",
    "#stats\n",
    "maxi = numpy.load(processing_dir+'training-stats-all/maxi.npy')\n",
    "mini = numpy.load(processing_dir+'training-stats-all/mini.npy')\n",
    "sample_info = (numpy.random.uniform, mini,maxi)"
   ]
  },
  {
   "cell_type": "markdown",
   "metadata": {},
   "source": [
    "### Evaluate on data"
   ]
  },
  {
   "cell_type": "code",
   "execution_count": 7,
   "metadata": {},
   "outputs": [
    {
     "data": {
      "text/plain": [
       "[0.33629308624353915, 0.9399373259052924]"
      ]
     },
     "execution_count": 7,
     "metadata": {},
     "output_type": "execute_result"
    }
   ],
   "source": [
    "#batch generator parameters\n",
    "params = {'dim': [(maxlen_text,embedding_size),(maxlen_summ,embedding_size)],\n",
    "          'batch_size': batch_size,\n",
    "          'shuffle': True,\n",
    "         'tokenizer':tokenizer,\n",
    "         'embedding_matrix':embedding_matrix,\n",
    "         'maxlen_text':maxlen_text,\n",
    "         'maxlen_summ':maxlen_summ,\n",
    "         'data_dir':data_dir,\n",
    "         'sample_info':sample_info}\n",
    "\n",
    "#generators\n",
    "test_generator = ContAllGenerator_ow(partition['test'], labels, **params)\n",
    "\n",
    "# Train model on dataset\n",
    "model.evaluate_generator(generator=test_generator,\n",
    "                    use_multiprocessing=True,\n",
    "                    workers=5)"
   ]
  },
  {
   "cell_type": "markdown",
   "metadata": {},
   "source": [
    "# Predict on only pseudorandom-dist noise"
   ]
  },
  {
   "cell_type": "markdown",
   "metadata": {},
   "source": [
    "### Get data"
   ]
  },
  {
   "cell_type": "code",
   "execution_count": 24,
   "metadata": {},
   "outputs": [],
   "source": [
    "data_dir = '/mnt/disks/500gb/experimental-data-mini/experimental-data-mini/evaluation-data/test-onlynoise/pseudorandom-dist/only-noise/'\n",
    "processing_dir = '/mnt/disks/500gb/stats-and-meta-data/400000/'\n",
    "\n",
    "with open(data_dir+'partition.pickle', 'rb') as handle: partition = pickle.load(handle)\n",
    "with open(data_dir+'labels.pickle', 'rb') as handle: labels = pickle.load(handle)\n",
    "\n",
    "with open(processing_dir+'tokenizer.pickle', 'rb') as handle: tokenizer = pickle.load(handle)\n",
    "embedding_matrix = numpy.load(processing_dir+'embedding_matrix.npy')\n",
    "\n",
    "#the p_n constant\n",
    "c = 80000\n",
    "\n",
    "#stats\n",
    "maxi = numpy.load(processing_dir+'training-stats-all/maxi.npy')\n",
    "mini = numpy.load(processing_dir+'training-stats-all/mini.npy')\n",
    "sample_info = (numpy.random.uniform, mini,maxi)"
   ]
  },
  {
   "cell_type": "markdown",
   "metadata": {},
   "source": [
    "### Evaluate on data"
   ]
  },
  {
   "cell_type": "code",
   "execution_count": 25,
   "metadata": {},
   "outputs": [
    {
     "data": {
      "text/plain": [
       "[0.4951415395255208, 0.804491643454039]"
      ]
     },
     "execution_count": 25,
     "metadata": {},
     "output_type": "execute_result"
    }
   ],
   "source": [
    "#batch generator parameters\n",
    "params = {'dim': [(maxlen_text,embedding_size),(maxlen_summ,embedding_size)],\n",
    "          'batch_size': batch_size,\n",
    "          'shuffle': True,\n",
    "         'tokenizer':tokenizer,\n",
    "         'embedding_matrix':embedding_matrix,\n",
    "         'maxlen_text':maxlen_text,\n",
    "         'maxlen_summ':maxlen_summ,\n",
    "         'data_dir':data_dir,\n",
    "         'sample_info':sample_info}\n",
    "\n",
    "#generators\n",
    "test_generator = ContAllGenerator(partition['test'], labels, **params)\n",
    "\n",
    "# Train model on dataset\n",
    "model.evaluate_generator(generator=test_generator,\n",
    "                    use_multiprocessing=True,\n",
    "                    workers=5)"
   ]
  },
  {
   "cell_type": "markdown",
   "metadata": {},
   "source": [
    "# Predict on only generator-dist noise"
   ]
  },
  {
   "cell_type": "markdown",
   "metadata": {},
   "source": [
    "### Get data"
   ]
  },
  {
   "cell_type": "code",
   "execution_count": 26,
   "metadata": {},
   "outputs": [],
   "source": [
    "data_dir = '/mnt/disks/500gb/experimental-data-mini/experimental-data-mini/evaluation-data/test-onlynoise/generator-dist/only-noise/'\n",
    "processing_dir = '/mnt/disks/500gb/stats-and-meta-data/400000/'\n",
    "\n",
    "with open(data_dir+'partition.pickle', 'rb') as handle: partition = pickle.load(handle)\n",
    "with open(data_dir+'labels.pickle', 'rb') as handle: labels = pickle.load(handle)\n",
    "\n",
    "with open(processing_dir+'tokenizer.pickle', 'rb') as handle: tokenizer = pickle.load(handle)\n",
    "embedding_matrix = numpy.load(processing_dir+'embedding_matrix.npy')\n",
    "\n",
    "#the p_n constant\n",
    "c = 80000\n",
    "\n",
    "#stats\n",
    "maxi = numpy.load(processing_dir+'training-stats-all/maxi.npy')\n",
    "mini = numpy.load(processing_dir+'training-stats-all/mini.npy')\n",
    "sample_info = (numpy.random.uniform, mini,maxi)"
   ]
  },
  {
   "cell_type": "markdown",
   "metadata": {},
   "source": [
    "### Evaluate on data"
   ]
  },
  {
   "cell_type": "code",
   "execution_count": 27,
   "metadata": {},
   "outputs": [
    {
     "data": {
      "text/plain": [
       "[1.6651120438922051, 0.34488477653631283]"
      ]
     },
     "execution_count": 27,
     "metadata": {},
     "output_type": "execute_result"
    }
   ],
   "source": [
    "#batch generator parameters\n",
    "params = {'dim': [(maxlen_text,embedding_size),(maxlen_summ,embedding_size)],\n",
    "          'batch_size': batch_size,\n",
    "          'shuffle': True,\n",
    "         'tokenizer':tokenizer,\n",
    "         'embedding_matrix':embedding_matrix,\n",
    "         'maxlen_text':maxlen_text,\n",
    "         'maxlen_summ':maxlen_summ,\n",
    "         'data_dir':data_dir,\n",
    "         'sample_info':sample_info}\n",
    "\n",
    "#generators\n",
    "test_generator = ContAllGenerator(partition['test'], labels, **params)\n",
    "\n",
    "# Train model on dataset\n",
    "model.evaluate_generator(generator=test_generator,\n",
    "                    use_multiprocessing=True,\n",
    "                    workers=5)"
   ]
  },
  {
   "cell_type": "markdown",
   "metadata": {},
   "source": [
    "# Predict on only uniform-dist noise"
   ]
  },
  {
   "cell_type": "markdown",
   "metadata": {},
   "source": [
    "### Get data"
   ]
  },
  {
   "cell_type": "code",
   "execution_count": 28,
   "metadata": {},
   "outputs": [],
   "source": [
    "data_dir = '/mnt/disks/500gb/experimental-data-mini/experimental-data-mini/evaluation-data/test-onlynoise/pseudorandom-dist/only-noise/'\n",
    "processing_dir = '/mnt/disks/500gb/stats-and-meta-data/400000/'\n",
    "\n",
    "with open(data_dir+'partition.pickle', 'rb') as handle: partition = pickle.load(handle)\n",
    "with open(data_dir+'labels.pickle', 'rb') as handle: labels = pickle.load(handle)\n",
    "\n",
    "with open(processing_dir+'tokenizer.pickle', 'rb') as handle: tokenizer = pickle.load(handle)\n",
    "embedding_matrix = numpy.load(processing_dir+'embedding_matrix.npy')\n",
    "\n",
    "#the p_n constant\n",
    "c = 80000\n",
    "\n",
    "#stats\n",
    "maxi = numpy.load(processing_dir+'training-stats-all/maxi.npy')\n",
    "mini = numpy.load(processing_dir+'training-stats-all/mini.npy')\n",
    "sample_info = (numpy.random.uniform, mini,maxi)"
   ]
  },
  {
   "cell_type": "markdown",
   "metadata": {},
   "source": [
    "### Evaluate on data"
   ]
  },
  {
   "cell_type": "code",
   "execution_count": 29,
   "metadata": {},
   "outputs": [
    {
     "data": {
      "text/plain": [
       "[0.013975367889140309, 1.0]"
      ]
     },
     "execution_count": 29,
     "metadata": {},
     "output_type": "execute_result"
    }
   ],
   "source": [
    "#batch generator parameters\n",
    "params = {'dim': [(maxlen_text,embedding_size),(maxlen_summ,embedding_size)],\n",
    "          'batch_size': batch_size,\n",
    "          'shuffle': True,\n",
    "         'tokenizer':tokenizer,\n",
    "         'embedding_matrix':embedding_matrix,\n",
    "         'maxlen_text':maxlen_text,\n",
    "         'maxlen_summ':maxlen_summ,\n",
    "         'data_dir':data_dir,\n",
    "         'sample_info':sample_info}\n",
    "\n",
    "#generators\n",
    "test_generator = TwoQuartGenerator(partition['test'], labels, **params)\n",
    "\n",
    "# Train model on dataset\n",
    "model.evaluate_generator(generator=test_generator,\n",
    "                    use_multiprocessing=True,\n",
    "                    workers=5)"
   ]
  },
  {
   "cell_type": "code",
   "execution_count": null,
   "metadata": {},
   "outputs": [],
   "source": []
  }
 ],
 "metadata": {
  "kernelspec": {
   "display_name": "Python ml",
   "language": "python",
   "name": "ml"
  },
  "language_info": {
   "codemirror_mode": {
    "name": "ipython",
    "version": 3
   },
   "file_extension": ".py",
   "mimetype": "text/x-python",
   "name": "python",
   "nbconvert_exporter": "python",
   "pygments_lexer": "ipython3",
   "version": "3.6.5"
  }
 },
 "nbformat": 4,
 "nbformat_minor": 2
}
