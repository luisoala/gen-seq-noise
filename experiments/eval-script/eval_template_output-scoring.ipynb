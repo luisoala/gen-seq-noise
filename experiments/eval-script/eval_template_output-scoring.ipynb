{
 "cells": [
  {
   "cell_type": "code",
   "execution_count": 1,
   "metadata": {
    "collapsed": false
   },
   "outputs": [
    {
     "data": {
      "text/html": [
       "<style>.container { width:80% !important; }</style>"
      ],
      "text/plain": [
       "<IPython.core.display.HTML object>"
      ]
     },
     "metadata": {},
     "output_type": "display_data"
    }
   ],
   "source": [
    "#cell-width control\n",
    "from IPython.core.display import display, HTML\n",
    "display(HTML(\"<style>.container { width:80% !important; }</style>\"))"
   ]
  },
  {
   "cell_type": "markdown",
   "metadata": {},
   "source": [
    "# Imports"
   ]
  },
  {
   "cell_type": "code",
   "execution_count": 2,
   "metadata": {
    "collapsed": false
   },
   "outputs": [
    {
     "name": "stderr",
     "output_type": "stream",
     "text": [
      "Using TensorFlow backend.\n"
     ]
    }
   ],
   "source": [
    "#packages\n",
    "import numpy\n",
    "import tensorflow as tf\n",
    "from tensorflow.core.example import example_pb2\n",
    "\n",
    "#utils\n",
    "import os\n",
    "import random\n",
    "import pickle\n",
    "import struct\n",
    "import time\n",
    "from generators import *\n",
    "\n",
    "#keras\n",
    "import keras\n",
    "from keras.preprocessing import text, sequence\n",
    "from keras.preprocessing.text import Tokenizer\n",
    "from keras.models import Model, Sequential\n",
    "from keras.models import load_model\n",
    "from keras.layers import Dense, Dropout, Activation, Concatenate, Dot, Embedding, LSTM, Conv1D, MaxPooling1D, Input, Lambda\n",
    "    #callbacks\n",
    "from keras.callbacks import TensorBoard, ModelCheckpoint, Callback\n"
   ]
  },
  {
   "cell_type": "code",
   "execution_count": 3,
   "metadata": {
    "collapsed": false
   },
   "outputs": [
    {
     "name": "stdout",
     "output_type": "stream",
     "text": [
      "{'tw_on_pseudorandom': {0.1: {'on_clean': 0.98946726, 'on_pseudo': 0.6665215790271759, 'on_generator': 0.1353875994682312, 'on_uniform': 0.9892061278223991}, 0.3: {'on_clean': 0.96805364, 'on_pseudo': 0.7550487518310547, 'on_generator': 0.2517458200454712, 'on_uniform': 1.0}, 0.5: {'on_clean': 0.94246167, 'on_pseudo': 0.8044916391372681, 'on_generator': 0.3447974920272827, 'on_uniform': 0.9996518105908763}, 0.6: {'on_clean': 0.92583567, 'on_pseudo': 0.827907383441925, 'on_generator': 0.3997032046318054, 'on_uniform': 1.0}, 0.7: {'on_clean': 0.9045961, 'on_pseudo': 0.8512360751628876, 'on_generator': 0.45975905656814575, 'on_uniform': 1.0}, 0.75: {'on_clean': 0.8904944, 'on_pseudo': 0.8634227067232132, 'on_generator': 0.49773043394088745, 'on_uniform': 1.0}, 0.8: {'on_clean': 0.87299794, 'on_pseudo': 0.8783077970147133, 'on_generator': 0.5467004179954529, 'on_uniform': 1.0}, 0.81: {'on_clean': 0.8680362, 'on_pseudo': 0.8821378797292709, 'on_generator': 0.5553421676158905, 'on_uniform': 1.0}, 0.82: {'on_clean': 0.86185586, 'on_pseudo': 0.8864902481436729, 'on_generator': 0.5648568570613861, 'on_uniform': 1.0}, 0.83: {'on_clean': 0.85602367, 'on_pseudo': 0.8891887217760086, 'on_generator': 0.5757681429386139, 'on_uniform': 1.0}, 0.84: {'on_clean': 0.84879875, 'on_pseudo': 0.8927576616406441, 'on_generator': 0.587290495634079, 'on_uniform': 1.0}, 0.85: {'on_clean': 0.84166086, 'on_pseudo': 0.8969359323382378, 'on_generator': 0.5977653563022614, 'on_uniform': 1.0}, 0.86: {'on_clean': 0.8335655, 'on_pseudo': 0.9007660150527954, 'on_generator': 0.6103352010250092, 'on_uniform': 1.0}, 0.87: {'on_clean': 0.8250348, 'on_pseudo': 0.9039867669343948, 'on_generator': 0.6237779259681702, 'on_uniform': 1.0}, 0.88: {'on_clean': 0.81302226, 'on_pseudo': 0.9081650450825691, 'on_generator': 0.6401012539863586, 'on_uniform': 1.0}, 0.89: {'on_clean': 0.80057454, 'on_pseudo': 0.9118210300803185, 'on_generator': 0.6569483280181885, 'on_uniform': 1.0}, 0.9: {'on_clean': 0.78795266, 'on_pseudo': 0.9166086316108704, 'on_generator': 0.6744064390659332, 'on_uniform': 1.0}, 0.91: {'on_clean': 0.77472144, 'on_pseudo': 0.921657383441925, 'on_generator': 0.6956180036067963, 'on_uniform': 1.0}, 0.92: {'on_clean': 0.7553099, 'on_pseudo': 0.9266190826892853, 'on_generator': 0.7158694267272949, 'on_uniform': 1.0}, 0.93: {'on_clean': 0.7347667, 'on_pseudo': 0.9334087744355202, 'on_generator': 0.7374301552772522, 'on_uniform': 1.0}, 0.94: {'on_clean': 0.7016017, 'on_pseudo': 0.9394150413572788, 'on_generator': 0.7655377089977264, 'on_uniform': 1.0}, 0.95: {'on_clean': 0.66443247, 'on_pseudo': 0.9462917819619179, 'on_generator': 0.7967877089977264, 'on_uniform': 1.0}, 0.96: {'on_clean': 0.6161212, 'on_pseudo': 0.9550835639238358, 'on_generator': 0.8293470740318298, 'on_uniform': 1.0}, 0.97: {'on_clean': 0.54195684, 'on_pseudo': 0.9661385789513588, 'on_generator': 0.868365928530693, 'on_uniform': 1.0}, 0.98: {'on_clean': 0.42566156, 'on_pseudo': 0.9768454041332006, 'on_generator': 0.9207402244210243, 'on_uniform': 1.0}, 0.99: {'on_clean': 0.21082869, 'on_pseudo': 0.9908600281924009, 'on_generator': 0.9733763970434666, 'on_uniform': 1.0}, 0.995: {'on_clean': 0.05623259, 'on_pseudo': 0.9969533425755799, 'on_generator': 0.9947625696659088, 'on_uniform': 1.0}, 0.999: {'on_clean': 8.704735e-05, 'on_pseudo': 1.0, 'on_generator': 1.0, 'on_uniform': 1.0}}, 'tw_on_generator': {0.1: {'on_clean': 0.9800662, 'on_pseudo': 0.2252785563468933, 'on_generator': 0.6286661922931671, 'on_uniform': 0.045264601707458496}, 0.3: {'on_clean': 0.9331476, 'on_pseudo': 0.3499303460121155, 'on_generator': 0.8468051701784134, 'on_uniform': 0.2605327367782593}, 0.5: {'on_clean': 0.88405293, 'on_pseudo': 0.4257485866546631, 'on_generator': 0.9208275154232979, 'on_uniform': 0.5389972031116486}, 0.6: {'on_clean': 0.8538475, 'on_pseudo': 0.4654421806335449, 'on_generator': 0.9457925967872143, 'on_uniform': 0.6633008420467377}, 0.7: {'on_clean': 0.81589484, 'on_pseudo': 0.5023502707481384, 'on_generator': 0.9644727669656277, 'on_uniform': 0.7923050075769424}, 0.75: {'on_clean': 0.7936978, 'on_pseudo': 0.5247214436531067, 'on_generator': 0.9717178773134947, 'on_uniform': 0.8476671278476715}, 0.8: {'on_clean': 0.76479805, 'on_pseudo': 0.5490947067737579, 'on_generator': 0.9797486029565334, 'on_uniform': 0.89354108273983}, 0.81: {'on_clean': 0.7587047, 'on_pseudo': 0.5548398196697235, 'on_generator': 0.9812325425446033, 'on_uniform': 0.9184366315603256}, 0.82: {'on_clean': 0.7511316, 'on_pseudo': 0.5608460903167725, 'on_generator': 0.9822800271213055, 'on_uniform': 0.9166956841945648}, 0.83: {'on_clean': 0.7430362, 'on_pseudo': 0.5665912330150604, 'on_generator': 0.9840258378535509, 'on_uniform': 0.9305362105369568}, 0.84: {'on_clean': 0.73555017, 'on_pseudo': 0.5722492933273315, 'on_generator': 0.9849860332906246, 'on_uniform': 0.9336699172854424}, 0.85: {'on_clean': 0.7271066, 'on_pseudo': 0.580170601606369, 'on_generator': 0.986382681876421, 'on_uniform': 0.9501218646764755}, 0.86: {'on_clean': 0.71796656, 'on_pseudo': 0.5856545865535736, 'on_generator': 0.9875174583867192, 'on_uniform': 0.9603934548795223}, 0.87: {'on_clean': 0.70778203, 'on_pseudo': 0.591486781835556, 'on_generator': 0.9881284916773438, 'on_uniform': 0.9494254887104034}, 0.88: {'on_clean': 0.69681406, 'on_pseudo': 0.5985375940799713, 'on_generator': 0.9896997204050422, 'on_uniform': 0.9632660150527954}, 0.89: {'on_clean': 0.68532383, 'on_pseudo': 0.6060236692428589, 'on_generator': 0.9906599158421159, 'on_uniform': 0.9697075206786394}, 0.9: {'on_clean': 0.6744429, 'on_pseudo': 0.6130745112895966, 'on_generator': 0.9915328212082386, 'on_uniform': 0.9746692199259996}, 0.91: {'on_clean': 0.66112465, 'on_pseudo': 0.6223885715007782, 'on_generator': 0.9925803071819246, 'on_uniform': 0.9852019501850009}, 0.92: {'on_clean': 0.6449338, 'on_pseudo': 0.6317026317119598, 'on_generator': 0.993365922011435, 'on_uniform': 0.9858112810179591}, 0.93: {'on_clean': 0.62708914, 'on_pseudo': 0.6430188119411469, 'on_generator': 0.9943261174485087, 'on_uniform': 0.9853760441765189}, 0.94: {'on_clean': 0.6091574, 'on_pseudo': 0.6534644961357117, 'on_generator': 0.9957227655686438, 'on_uniform': 0.99547353759408}, 0.95: {'on_clean': 0.5852194, 'on_pseudo': 0.6675661504268646, 'on_generator': 0.9961592177860439, 'on_uniform': 0.9968662953469902}, 0.96: {'on_clean': 0.5537082, 'on_pseudo': 0.6812326014041901, 'on_generator': 0.9972067039925605, 'on_uniform': 0.9986072423635051}, 0.97: {'on_clean': 0.5167131, 'on_pseudo': 0.7000348269939423, 'on_generator': 0.9977304469794035, 'on_uniform': 0.998955431743525}, 0.98: {'on_clean': 0.46265668, 'on_pseudo': 0.7291086316108704, 'on_generator': 0.998516061459668, 'on_uniform': 0.9996518105908763}, 0.99: {'on_clean': 0.38257313, 'on_pseudo': 0.7696727067232132, 'on_generator': 0.9993016759981401, 'on_uniform': 1.0}, 0.995: {'on_clean': 0.3156337, 'on_pseudo': 0.8051880151033401, 'on_generator': 0.9994762569549493, 'on_uniform': 1.0}, 0.999: {'on_clean': 0.16521588, 'on_pseudo': 0.8757834285497665, 'on_generator': 0.9999127094997675, 'on_uniform': 1.0}}, 'tw_on_uniform': {0.1: {'on_clean': 1.0, 'on_pseudo': 0.0, 'on_generator': 0.0, 'on_uniform': 1.0}, 0.3: {'on_clean': 1.0, 'on_pseudo': 0.0, 'on_generator': 0.0, 'on_uniform': 1.0}, 0.5: {'on_clean': 1.0, 'on_pseudo': 0.0, 'on_generator': 0.0, 'on_uniform': 1.0}, 0.6: {'on_clean': 1.0, 'on_pseudo': 0.0, 'on_generator': 0.0, 'on_uniform': 1.0}, 0.7: {'on_clean': 1.0, 'on_pseudo': 0.0, 'on_generator': 0.0, 'on_uniform': 1.0}, 0.75: {'on_clean': 1.0, 'on_pseudo': 0.0, 'on_generator': 0.0, 'on_uniform': 1.0}, 0.8: {'on_clean': 1.0, 'on_pseudo': 0.0, 'on_generator': 0.0, 'on_uniform': 1.0}, 0.81: {'on_clean': 1.0, 'on_pseudo': 0.0, 'on_generator': 0.0, 'on_uniform': 1.0}, 0.82: {'on_clean': 1.0, 'on_pseudo': 0.0, 'on_generator': 0.0, 'on_uniform': 1.0}, 0.83: {'on_clean': 1.0, 'on_pseudo': 0.0, 'on_generator': 0.0, 'on_uniform': 1.0}, 0.84: {'on_clean': 1.0, 'on_pseudo': 0.0, 'on_generator': 0.0, 'on_uniform': 1.0}, 0.85: {'on_clean': 1.0, 'on_pseudo': 0.0, 'on_generator': 0.0, 'on_uniform': 1.0}, 0.86: {'on_clean': 1.0, 'on_pseudo': 0.0, 'on_generator': 0.0, 'on_uniform': 1.0}, 0.87: {'on_clean': 1.0, 'on_pseudo': 0.0, 'on_generator': 0.0, 'on_uniform': 1.0}, 0.88: {'on_clean': 1.0, 'on_pseudo': 0.0, 'on_generator': 0.0, 'on_uniform': 1.0}, 0.89: {'on_clean': 1.0, 'on_pseudo': 0.0, 'on_generator': 0.0, 'on_uniform': 1.0}, 0.9: {'on_clean': 1.0, 'on_pseudo': 0.0, 'on_generator': 0.0, 'on_uniform': 1.0}, 0.91: {'on_clean': 1.0, 'on_pseudo': 0.0, 'on_generator': 0.0, 'on_uniform': 1.0}, 0.92: {'on_clean': 1.0, 'on_pseudo': 0.0, 'on_generator': 0.0, 'on_uniform': 1.0}, 0.93: {'on_clean': 1.0, 'on_pseudo': 0.0, 'on_generator': 0.0, 'on_uniform': 1.0}, 0.94: {'on_clean': 1.0, 'on_pseudo': 0.0, 'on_generator': 0.0, 'on_uniform': 1.0}, 0.95: {'on_clean': 1.0, 'on_pseudo': 0.0, 'on_generator': 0.0, 'on_uniform': 1.0}, 0.96: {'on_clean': 1.0, 'on_pseudo': 0.0, 'on_generator': 0.0, 'on_uniform': 1.0}, 0.97: {'on_clean': 1.0, 'on_pseudo': 0.0, 'on_generator': 0.0, 'on_uniform': 1.0}, 0.98: {'on_clean': 1.0, 'on_pseudo': 0.0, 'on_generator': 0.0, 'on_uniform': 1.0}, 0.99: {'on_clean': 1.0, 'on_pseudo': 0.0, 'on_generator': 0.0, 'on_uniform': 1.0}, 0.995: {'on_clean': 1.0, 'on_pseudo': 0.0, 'on_generator': 0.0, 'on_uniform': 1.0}, 0.999: {'on_clean': 1.0, 'on_pseudo': 0.0, 'on_generator': 0.0, 'on_uniform': 1.0}}, 'ow_on_pseudorandom': {0.1: {'on_clean': 0.9941678, 'on_pseudo': 0.542827308177948, 'on_generator': 0.13591128587722778, 'on_uniform': 1.0}, 0.3: {'on_clean': 0.9787604, 'on_pseudo': 0.6140320301055908, 'on_generator': 0.26309359073638916, 'on_uniform': 1.0}, 0.5: {'on_clean': 0.93993735, 'on_pseudo': 0.6714832782745361, 'on_generator': 0.407559335231781, 'on_uniform': 1.0}, 0.6: {'on_clean': 0.9059889, 'on_pseudo': 0.7040390074253082, 'on_generator': 0.49947625398635864, 'on_uniform': 1.0}, 0.7: {'on_clean': 0.82486075, 'on_pseudo': 0.7532207518815994, 'on_generator': 0.6337290406227112, 'on_uniform': 1.0}, 0.75: {'on_clean': 0.72214484, 'on_pseudo': 0.795961007475853, 'on_generator': 0.7616969347000122, 'on_uniform': 1.0}, 0.8: {'on_clean': 0.22466922, 'on_pseudo': 0.941678274422884, 'on_generator': 0.9783519562333822, 'on_uniform': 1.0}, 0.81: {'on_clean': 0.046483286, 'on_pseudo': 0.9873781334608793, 'on_generator': 0.9958973461762071, 'on_uniform': 1.0}, 0.82: {'on_clean': 0.02106546, 'on_pseudo': 0.9940807800740004, 'on_generator': 0.997555865906179, 'on_uniform': 1.0}, 0.83: {'on_clean': 0.0099233985, 'on_pseudo': 0.9963440110441297, 'on_generator': 0.9987779329530895, 'on_uniform': 1.0}, 0.84: {'on_clean': 0.0047876043, 'on_pseudo': 0.9980849581770599, 'on_generator': 0.9993016759981401, 'on_uniform': 1.0}, 0.85: {'on_clean': 0.0020891365, 'on_pseudo': 0.9992165738367476, 'on_generator': 0.9996508379990701, 'on_uniform': 1.0}, 0.86: {'on_clean': 0.0013927576, 'on_pseudo': 0.9994777158717625, 'on_generator': 0.9999127094997675, 'on_uniform': 1.0}, 0.87: {'on_clean': 0.00087047357, 'on_pseudo': 0.9996518105908763, 'on_generator': 0.9999127094997675, 'on_uniform': 1.0}, 0.88: {'on_clean': 0.00043523678, 'on_pseudo': 0.9999129526477191, 'on_generator': 1.0, 'on_uniform': 1.0}, 0.89: {'on_clean': 0.0001740947, 'on_pseudo': 0.9999129526477191, 'on_generator': 1.0, 'on_uniform': 1.0}, 0.9: {'on_clean': 0.0001740947, 'on_pseudo': 0.9999129526477191, 'on_generator': 1.0, 'on_uniform': 1.0}, 0.91: {'on_clean': 8.704735e-05, 'on_pseudo': 1.0, 'on_generator': 1.0, 'on_uniform': 1.0}, 0.92: {'on_clean': 8.704735e-05, 'on_pseudo': 1.0, 'on_generator': 1.0, 'on_uniform': 1.0}, 0.93: {'on_clean': 8.704735e-05, 'on_pseudo': 1.0, 'on_generator': 1.0, 'on_uniform': 1.0}, 0.94: {'on_clean': 0.0, 'on_pseudo': 1.0, 'on_generator': 1.0, 'on_uniform': 1.0}, 0.95: {'on_clean': 0.0, 'on_pseudo': 1.0, 'on_generator': 1.0, 'on_uniform': 1.0}, 0.96: {'on_clean': 0.0, 'on_pseudo': 1.0, 'on_generator': 1.0, 'on_uniform': 1.0}, 0.97: {'on_clean': 0.0, 'on_pseudo': 1.0, 'on_generator': 1.0, 'on_uniform': 1.0}, 0.98: {'on_clean': 0.0, 'on_pseudo': 1.0, 'on_generator': 1.0, 'on_uniform': 1.0}, 0.99: {'on_clean': 0.0, 'on_pseudo': 1.0, 'on_generator': 1.0, 'on_uniform': 1.0}, 0.995: {'on_clean': 0.0, 'on_pseudo': 1.0, 'on_generator': 1.0, 'on_uniform': 1.0}, 0.999: {'on_clean': 0.0, 'on_pseudo': 1.0, 'on_generator': 1.0, 'on_uniform': 1.0}}, 'ow_on_generator': {0.1: {'on_clean': 0.97527856, 'on_pseudo': 0.22762882709503174, 'on_generator': 0.6428945660591125, 'on_uniform': 0.00278550386428833}, 0.3: {'on_clean': 0.92975277, 'on_pseudo': 0.33051878213882446, 'on_generator': 0.8372032195329666, 'on_uniform': 0.040302932262420654}, 0.5: {'on_clean': 0.88561976, 'on_pseudo': 0.39632660150527954, 'on_generator': 0.9094797521829605, 'on_uniform': 0.11594706773757935}, 0.6: {'on_clean': 0.8617688, 'on_pseudo': 0.42705434560775757, 'on_generator': 0.9322625696659088, 'on_uniform': 0.17740249633789062}, 0.7: {'on_clean': 0.83043176, 'on_pseudo': 0.46030640602111816, 'on_generator': 0.9513791911303997, 'on_uniform': 0.2519150376319885}, 0.75: {'on_clean': 0.81337047, 'on_pseudo': 0.47710657119750977, 'on_generator': 0.9608938544988632, 'on_uniform': 0.3264275789260864}, 0.8: {'on_clean': 0.7910864, 'on_pseudo': 0.49878132343292236, 'on_generator': 0.9697101954370737, 'on_uniform': 0.3806580901145935}, 0.81: {'on_clean': 0.78595054, 'on_pseudo': 0.5037430226802826, 'on_generator': 0.970932262018323, 'on_uniform': 0.39145195484161377}, 0.82: {'on_clean': 0.7796832, 'on_pseudo': 0.5076601803302765, 'on_generator': 0.9725907817482948, 'on_uniform': 0.41008007526397705}, 0.83: {'on_clean': 0.77376395, 'on_pseudo': 0.5141887068748474, 'on_generator': 0.9748603347688913, 'on_uniform': 0.4292305111885071}, 0.84: {'on_clean': 0.7680188, 'on_pseudo': 0.5197597444057465, 'on_generator': 0.9764315634965897, 'on_uniform': 0.4442896842956543}, 0.85: {'on_clean': 0.76044565, 'on_pseudo': 0.5250696241855621, 'on_generator': 0.9775663409382105, 'on_uniform': 0.45943593978881836}, 0.86: {'on_clean': 0.7512187, 'on_pseudo': 0.5315981805324554, 'on_generator': 0.9794867318123579, 'on_uniform': 0.4942548871040344}, 0.87: {'on_clean': 0.7429492, 'on_pseudo': 0.538823127746582, 'on_generator': 0.9811452515423298, 'on_uniform': 0.5213266015052795}, 0.88: {'on_clean': 0.7342444, 'on_pseudo': 0.5457869172096252, 'on_generator': 0.9824546091258526, 'on_uniform': 0.5107068121433258}, 0.89: {'on_clean': 0.724234, 'on_pseudo': 0.5517931878566742, 'on_generator': 0.9837639667093754, 'on_uniform': 0.5419568121433258}, 0.9: {'on_clean': 0.7126567, 'on_pseudo': 0.5621518194675446, 'on_generator': 0.9853351954370737, 'on_uniform': 0.5694637894630432}, 0.91: {'on_clean': 0.70090526, 'on_pseudo': 0.5706824660301208, 'on_generator': 0.9859462287276983, 'on_uniform': 0.6027158796787262}, 0.92: {'on_clean': 0.6872389, 'on_pseudo': 0.5805188119411469, 'on_generator': 0.9876047484576702, 'on_uniform': 0.6287430226802826}, 0.93: {'on_clean': 0.6714833, 'on_pseudo': 0.5936629474163055, 'on_generator': 0.9899615924805403, 'on_uniform': 0.6686107218265533}, 0.94: {'on_clean': 0.6538997, 'on_pseudo': 0.6048920750617981, 'on_generator': 0.9917946923524141, 'on_uniform': 0.7244951128959656}, 0.95: {'on_clean': 0.6306581, 'on_pseudo': 0.6184714436531067, 'on_generator': 0.993365922011435, 'on_uniform': 0.7496518194675446}, 0.96: {'on_clean': 0.60463095, 'on_pseudo': 0.6357068121433258, 'on_generator': 0.9948498602025211, 'on_uniform': 0.7708043158054352}, 0.97: {'on_clean': 0.5712047, 'on_pseudo': 0.6565981805324554, 'on_generator': 0.9966829610057175, 'on_uniform': 0.8388753533363342}, 0.98: {'on_clean': 0.52028203, 'on_pseudo': 0.6869777143001556, 'on_generator': 0.9979923183564097, 'on_uniform': 0.8886664360761642}, 0.99: {'on_clean': 0.43941504, 'on_pseudo': 0.7306754887104034, 'on_generator': 0.9986906424164772, 'on_uniform': 0.9512534812092781}, 0.995: {'on_clean': 0.35837397, 'on_pseudo': 0.7720229774713516, 'on_generator': 0.9993016759981401, 'on_uniform': 0.9819811973720789}, 0.999: {'on_clean': 0.18123259, 'on_pseudo': 0.8568941503763199, 'on_generator': 0.9999127094997675, 'on_uniform': 0.9982590528670698}}, 'ow_on_uniform': {0.1: {'on_clean': 1.0, 'on_pseudo': 0.0, 'on_generator': 0.0, 'on_uniform': 1.0}, 0.3: {'on_clean': 1.0, 'on_pseudo': 0.0, 'on_generator': 0.0, 'on_uniform': 1.0}, 0.5: {'on_clean': 1.0, 'on_pseudo': 0.0, 'on_generator': 0.0, 'on_uniform': 1.0}, 0.6: {'on_clean': 1.0, 'on_pseudo': 0.0, 'on_generator': 0.0, 'on_uniform': 1.0}, 0.7: {'on_clean': 1.0, 'on_pseudo': 0.0, 'on_generator': 0.0, 'on_uniform': 1.0}, 0.75: {'on_clean': 1.0, 'on_pseudo': 0.0, 'on_generator': 0.0, 'on_uniform': 1.0}, 0.8: {'on_clean': 1.0, 'on_pseudo': 0.0, 'on_generator': 0.0, 'on_uniform': 1.0}, 0.81: {'on_clean': 1.0, 'on_pseudo': 0.0, 'on_generator': 0.0, 'on_uniform': 1.0}, 0.82: {'on_clean': 1.0, 'on_pseudo': 0.0, 'on_generator': 0.0, 'on_uniform': 1.0}, 0.83: {'on_clean': 1.0, 'on_pseudo': 0.0, 'on_generator': 0.0, 'on_uniform': 1.0}, 0.84: {'on_clean': 1.0, 'on_pseudo': 0.0, 'on_generator': 0.0, 'on_uniform': 1.0}, 0.85: {'on_clean': 1.0, 'on_pseudo': 0.0, 'on_generator': 0.0, 'on_uniform': 1.0}, 0.86: {'on_clean': 1.0, 'on_pseudo': 0.0, 'on_generator': 0.0, 'on_uniform': 1.0}, 0.87: {'on_clean': 1.0, 'on_pseudo': 0.0, 'on_generator': 0.0, 'on_uniform': 1.0}, 0.88: {'on_clean': 1.0, 'on_pseudo': 0.0, 'on_generator': 0.0, 'on_uniform': 1.0}, 0.89: {'on_clean': 1.0, 'on_pseudo': 0.0, 'on_generator': 0.0, 'on_uniform': 1.0}, 0.9: {'on_clean': 1.0, 'on_pseudo': 0.0, 'on_generator': 0.0, 'on_uniform': 1.0}, 0.91: {'on_clean': 1.0, 'on_pseudo': 0.0, 'on_generator': 0.0, 'on_uniform': 1.0}, 0.92: {'on_clean': 1.0, 'on_pseudo': 0.0, 'on_generator': 0.0, 'on_uniform': 1.0}, 0.93: {'on_clean': 1.0, 'on_pseudo': 0.0, 'on_generator': 0.0, 'on_uniform': 1.0}, 0.94: {'on_clean': 1.0, 'on_pseudo': 0.0, 'on_generator': 0.0, 'on_uniform': 1.0}, 0.95: {'on_clean': 1.0, 'on_pseudo': 0.0, 'on_generator': 0.0, 'on_uniform': 1.0}, 0.96: {'on_clean': 1.0, 'on_pseudo': 0.0, 'on_generator': 0.0, 'on_uniform': 1.0}, 0.97: {'on_clean': 1.0, 'on_pseudo': 0.0, 'on_generator': 0.0, 'on_uniform': 1.0}, 0.98: {'on_clean': 1.0, 'on_pseudo': 0.0, 'on_generator': 0.0, 'on_uniform': 1.0}, 0.99: {'on_clean': 1.0, 'on_pseudo': 0.0, 'on_generator': 0.0, 'on_uniform': 1.0}, 0.995: {'on_clean': 1.0, 'on_pseudo': 0.0, 'on_generator': 0.0, 'on_uniform': 1.0}, 0.999: {'on_clean': 1.0, 'on_pseudo': 0.0, 'on_generator': 0.0, 'on_uniform': 1.0}}}\n"
     ]
    }
   ],
   "source": [
    "with open('stats-4.pickle', 'rb') as handle: stats = pickle.load(handle)\n",
    "print(stats)"
   ]
  },
  {
   "cell_type": "code",
   "execution_count": 4,
   "metadata": {
    "collapsed": true
   },
   "outputs": [],
   "source": [
    "def get_f1(clean_data, pseudo_data, generator_data, uniform_data):\n",
    "    tpr_data = []\n",
    "    tnr_data = []\n",
    "    for i in range(len(clean_data)):\n",
    "        TP = clean_data[i] + 1e-10\n",
    "        TN = pseudo_data[i] + generator_data[i] + uniform_data[i] + 1e-10\n",
    "        FN = 1 - clean_data[i] + 1e-10\n",
    "        FP = 3 - pseudo_data[i] - generator_data[i] - uniform_data[i] + 1e-10\n",
    "        tpr = TP/(TP+FN)\n",
    "        tnr = TN/(TN+FP)\n",
    "        \n",
    "        tpr_data.append(tpr)\n",
    "        tnr_data.append(tnr)\n",
    "    return tpr_data, tnr_data\n",
    "\n",
    "model_name = 'tw_on_pseudorandom'\n",
    "clean_data = []\n",
    "pseudo_data = []\n",
    "generator_data = []\n",
    "uniform_data = []\n",
    "\n",
    "thresholds_data = []\n",
    "\n",
    "for threshold in sorted(stats[model_name].keys()):\n",
    "    thresholds_data.append(threshold)\n",
    "    for data_type in stats[model_name][threshold].keys():\n",
    "        if data_type == 'on_clean':\n",
    "            clean_data.append(stats[model_name][threshold][data_type])\n",
    "        if data_type == 'on_pseudo':\n",
    "            pseudo_data.append(stats[model_name][threshold][data_type])\n",
    "        if data_type == 'on_generator':\n",
    "            generator_data.append(stats[model_name][threshold][data_type])\n",
    "        elif data_type == 'on_uniform':\n",
    "            uniform_data.append(stats[model_name][threshold][data_type])\n",
    "\n",
    "#get prec, rec, f1\n",
    "tpr_data_twd, tnr_data_twd = get_f1(clean_data, pseudo_data, generator_data, uniform_data)"
   ]
  },
  {
   "cell_type": "code",
   "execution_count": 5,
   "metadata": {
    "collapsed": true
   },
   "outputs": [],
   "source": [
    "results = numpy.concatenate((numpy.array(thresholds_data)[:,numpy.newaxis], 1-numpy.array(tnr_data_twd)[:,numpy.newaxis], 1-numpy.array(tpr_data_twd)[:,numpy.newaxis] ), axis=1)"
   ]
  },
  {
   "cell_type": "code",
   "execution_count": 6,
   "metadata": {
    "collapsed": false
   },
   "outputs": [
    {
     "name": "stdout",
     "output_type": "stream",
     "text": [
      "[[1.00000000e-01 4.02961565e-01 1.05327369e-02]\n",
      " [3.00000000e-01 3.31068476e-01 3.19463612e-02]\n",
      " [5.00000000e-01 2.83686353e-01 5.75383306e-02]\n",
      " [6.00000000e-01 2.57463137e-01 7.41643310e-02]\n",
      " [7.00000000e-01 2.29668289e-01 9.54039098e-02]\n",
      " [7.50000000e-01 2.12948953e-01 1.09505594e-01]\n",
      " [8.00000000e-01 1.91663928e-01 1.27002060e-01]\n",
      " [8.10000000e-01 1.87506651e-01 1.31963790e-01]\n",
      " [8.20000000e-01 1.82884298e-01 1.38144136e-01]\n",
      " [8.30000000e-01 1.78347712e-01 1.43976331e-01]\n",
      " [8.40000000e-01 1.73317281e-01 1.51201248e-01]\n",
      " [8.50000000e-01 1.68432904e-01 1.58339143e-01]\n",
      " [8.60000000e-01 1.62966261e-01 1.66434527e-01]\n",
      " [8.70000000e-01 1.57411769e-01 1.74965203e-01]\n",
      " [8.80000000e-01 1.50577900e-01 1.86977744e-01]\n",
      " [8.90000000e-01 1.43743547e-01 1.99425459e-01]\n",
      " [9.00000000e-01 1.36328310e-01 2.12047339e-01]\n",
      " [9.10000000e-01 1.27574871e-01 2.25278556e-01]\n",
      " [9.20000000e-01 1.19170497e-01 2.44690120e-01]\n",
      " [9.30000000e-01 1.09720357e-01 2.65233278e-01]\n",
      " [9.40000000e-01 9.83490832e-02 2.98398316e-01]\n",
      " [9.50000000e-01 8.56401697e-02 3.35567534e-01]\n",
      " [9.60000000e-01 7.18564540e-02 3.83878827e-01]\n",
      " [9.70000000e-01 5.51651642e-02 4.58043158e-01]\n",
      " [9.80000000e-01 3.41381238e-02 5.74338436e-01]\n",
      " [9.90000000e-01 1.19211916e-02 7.89171308e-01]\n",
      " [9.95000000e-01 2.76136262e-03 9.43767410e-01]\n",
      " [9.99000000e-01 3.33333361e-11 9.99912953e-01]]\n"
     ]
    }
   ],
   "source": [
    "print(results)"
   ]
  },
  {
   "cell_type": "markdown",
   "metadata": {},
   "source": [
    "# CPU usage"
   ]
  },
  {
   "cell_type": "code",
   "execution_count": 7,
   "metadata": {
    "collapsed": true
   },
   "outputs": [],
   "source": [
    "os.environ[\"CUDA_DEVICE_ORDER\"] = \"PCI_BUS_ID\"   # see issue #152\n",
    "os.environ[\"CUDA_VISIBLE_DEVICES\"] = \"\""
   ]
  },
  {
   "cell_type": "markdown",
   "metadata": {},
   "source": [
    "# Global parameters"
   ]
  },
  {
   "cell_type": "code",
   "execution_count": 8,
   "metadata": {
    "collapsed": true
   },
   "outputs": [],
   "source": [
    "# Embedding\n",
    "max_features = 400000\n",
    "maxlen_text = 400\n",
    "maxlen_summ = 80\n",
    "embedding_size = 100 #128\n",
    "\n",
    "# Convolution\n",
    "kernel_size = 5\n",
    "filters = 64\n",
    "pool_size = 4\n",
    "\n",
    "# LSTM\n",
    "lstm_output_size = 70\n",
    "\n",
    "# Training\n",
    "batch_size = 32\n",
    "epochs = 5"
   ]
  },
  {
   "cell_type": "code",
   "execution_count": 9,
   "metadata": {
    "collapsed": true
   },
   "outputs": [],
   "source": [
    "use_multiprocessing = True\n",
    "workers = 4\n",
    "shuffle = False\n",
    "\n",
    "model_path_prefix = '/home/donald/documents/MT/implementation-and-experiments/'\n",
    "#model_path_prefix = '/home/oala/Documents/MT/implementation-experiments/'\n",
    "#data_path_prefix = '/mnt/disks/500gb/experimental-data-mini/experimental-data-mini/'\n",
    "#data_path_prefix = '/media/oala/4TB/experimental-data/'\n",
    "data_path_prefix = '/mnt/disks/500gb/experimental-data-mini/'"
   ]
  },
  {
   "cell_type": "code",
   "execution_count": 10,
   "metadata": {
    "collapsed": true
   },
   "outputs": [],
   "source": [
    "#get preprocessing data\n",
    "processing_dir = '/mnt/disks/500gb/stats-and-meta-data/400000/'\n",
    "#processing_dir = '/media/oala/4TB/experimental-data/stats-and-meta-data/400000/'\n",
    "with open(processing_dir+'tokenizer.pickle', 'rb') as handle: tokenizer = pickle.load(handle)\n",
    "embedding_matrix = numpy.load(processing_dir+'embedding_matrix.npy')\n",
    "#stats\n",
    "maxi = numpy.load(processing_dir+'training-stats-all/maxi.npy')\n",
    "mini = numpy.load(processing_dir+'training-stats-all/mini.npy')\n",
    "sample_info = (numpy.random.uniform, mini,maxi)"
   ]
  },
  {
   "cell_type": "code",
   "execution_count": 13,
   "metadata": {
    "collapsed": true
   },
   "outputs": [],
   "source": [
    "list_of_outputs = ['output-scoring/baseline/', 'output-scoring/pg/', 'output-scoring/pgc/','output-scoring/sumgan/']\n",
    "model_path = model_path_prefix + 'exciting-crazy/experiments/tw-on-pseudorandom/1/best.h5'\n",
    "threshold = 0.97"
   ]
  },
  {
   "cell_type": "code",
   "execution_count": 33,
   "metadata": {
    "collapsed": true
   },
   "outputs": [],
   "source": [
    "#num = 15\n",
    "#threshold = results[num,0]\n",
    "\n",
    "preds = []\n",
    "\n",
    "model = load_model(model_path)\n",
    "\n",
    "for output_suffix in list_of_outputs:\n",
    "    #eval on clean test\n",
    "    data_dir = data_path_prefix + output_suffix\n",
    "    with open(data_dir+'partition.pickle', 'rb') as handle: partition = pickle.load(handle)\n",
    "    with open(data_dir+'labels.pickle', 'rb') as handle: labels = pickle.load(handle)\n",
    "    \n",
    "    #batch generator parameters\n",
    "    params = {'dim': [(maxlen_text,embedding_size),(maxlen_summ,embedding_size)],\n",
    "              'batch_size': batch_size,\n",
    "              'shuffle': shuffle,\n",
    "             'tokenizer':tokenizer,\n",
    "             'embedding_matrix':embedding_matrix,\n",
    "             'maxlen_text':maxlen_text,\n",
    "             'maxlen_summ':maxlen_summ,\n",
    "             'data_dir':data_dir,\n",
    "             'sample_info':sample_info}\n",
    "    #generators\n",
    "    test_generator = ContAllGenerator(partition['test'], labels, **params)\n",
    "    # Train model on dataset\n",
    "    #out = model.evaluate_generator(generator=test_generator,\n",
    "                        #use_multiprocessing=use_multiprocessing,\n",
    "                        #workers=workers)\n",
    "\n",
    "    preds.append(model.predict_generator(generator=test_generator,\n",
    "                        use_multiprocessing=use_multiprocessing,\n",
    "                        workers=workers))\n",
    "    #preds[preds<threshold] = 0\n",
    "    #preds[preds!=0] = 1\n",
    "    \n",
    "    #print(output_suffix+': '+str(numpy.mean(preds)))\n",
    "    \n",
    "    #print(results[num,1:]*numpy.array([[numpy.mean(preds), 1-numpy.mean(preds)]])*numpy.array([[-1,1]]) + numpy.array([[numpy.mean(preds), numpy.mean(preds)]]) )"
   ]
  },
  {
   "cell_type": "code",
   "execution_count": 36,
   "metadata": {
    "collapsed": false
   },
   "outputs": [
    {
     "name": "stdout",
     "output_type": "stream",
     "text": [
      "0.1\n",
      "[[0.55036883 0.92265482]]\n",
      "[[0.53903923 0.90387836]]\n",
      "[[0.51180663 0.85874597]]\n",
      "[[0.53384218 0.89526532]]\n",
      "0.3\n",
      "[[0.56895281 0.8553144 ]]\n",
      "[[0.54117773 0.81511931]]\n",
      "[[0.49948594 0.75478444]]\n",
      "[[0.53360798 0.80416464]]\n",
      "0.5\n",
      "[[0.56055533 0.79506708]]\n",
      "[[0.52251989 0.74502344]]\n",
      "[[0.46827259 0.67364967]]\n",
      "[[0.50805393 0.72599042]]\n",
      "0.6\n",
      "[[0.54985733 0.7597566 ]]\n",
      "[[0.50745622 0.70688857]]\n",
      "[[0.44534112 0.62944005]]\n",
      "[[0.48845324 0.68319461]]\n",
      "0.7\n",
      "[[0.53288875 0.7211721 ]]\n",
      "[[0.48165847 0.66101268]]\n",
      "[[0.41487139 0.58258499]]\n",
      "[[0.45859143 0.63392518]]\n",
      "0.75\n",
      "[[0.52164056 0.69970619]]\n",
      "[[0.46217325 0.632423  ]]\n",
      "[[0.3947587  0.55614805]]\n",
      "[[0.4420996  0.60971105]]\n",
      "0.8\n",
      "[[0.50619515 0.67368967]]\n",
      "[[0.44089778 0.60316893]]\n",
      "[[0.36596064 0.52223728]]\n",
      "[[0.41683346 0.57717961]]\n",
      "0.81\n",
      "[[0.50172598 0.66798826]]\n",
      "[[0.43375884 0.59537481]]\n",
      "[[0.35737542 0.51376975]]\n",
      "[[0.41056092 0.57059106]]\n",
      "0.82\n",
      "[[0.49739643 0.66277489]]\n",
      "[[0.42769122 0.58925306]]\n",
      "[[0.34966406 0.50695362]]\n",
      "[[0.4035789 0.5638205]]\n",
      "0.83\n",
      "[[0.49250503 0.65708384]]\n",
      "[[0.42076778 0.58234568]]\n",
      "[[0.34202135 0.50030513]]\n",
      "[[0.396164   0.55671267]]\n",
      "0.84\n",
      "[[0.48681308 0.65103791]]\n",
      "[[0.41406096 0.57633947]]\n",
      "[[0.33533613 0.49550854]]\n",
      "[[0.38801125 0.54959287]]\n",
      "0.85\n",
      "[[0.48085832 0.64503424]]\n",
      "[[0.40579431 0.56905909]]\n",
      "[[0.32588049 0.48817525]]\n",
      "[[0.37966309 0.54261067]]\n",
      "0.86\n",
      "[[0.47476599 0.63923331]]\n",
      "[[0.3989171  0.56369871]]\n",
      "[[0.31629208 0.48141604]]\n",
      "[[0.37130258 0.53619861]]\n",
      "0.87\n",
      "[[0.46662138 0.63186558]]\n",
      "[[0.38975572 0.55660124]]\n",
      "[[0.30614236 0.47472977]]\n",
      "[[0.36056439 0.52801804]]\n",
      "0.88\n",
      "[[0.46101554 0.62823763]]\n",
      "[[0.38019921 0.55088448]]\n",
      "[[0.29679495 0.4710543 ]]\n",
      "[[0.34951411 0.52151431]]\n",
      "0.89\n",
      "[[0.45287381 0.62284912]]\n",
      "[[0.36887303 0.54431086]]\n",
      "[[0.28517038 0.46605136]]\n",
      "[[0.33876092 0.51615693]]\n",
      "0.9\n",
      "[[0.44439097 0.61747807]]\n",
      "[[0.35612925 0.53695436]]\n",
      "[[0.27079957 0.45910562]]\n",
      "[[0.3257564  0.50924433]]\n",
      "0.91\n",
      "[[0.43173196 0.60866046]]\n",
      "[[0.34143658 0.52847734]]\n",
      "[[0.25683687 0.45335203]]\n",
      "[[0.30969269 0.50028848]]\n",
      "0.92\n",
      "[[0.41764261 0.60281798]]\n",
      "[[0.32394714 0.52247427]]\n",
      "[[0.2389158  0.44956003]]\n",
      "[[0.29320091 0.49610943]]\n",
      "0.93\n",
      "[[0.40298172 0.59782266]]\n",
      "[[0.30425121 0.51633827]]\n",
      "[[0.21768763 0.44489551]]\n",
      "[[0.27302013 0.4905626 ]]\n",
      "0.94\n",
      "[[0.38513241 0.59808142]]\n",
      "[[0.28325716 0.51880923]]\n",
      "[[0.19425365 0.44955292]]\n",
      "[[0.24958652 0.49260909]]\n",
      "0.95\n",
      "[[0.36222593 0.59878411]]\n",
      "[[0.25413919 0.52024136]]\n",
      "[[0.16921388 0.45852918]]\n",
      "[[0.22094907 0.49612329]]\n",
      "0.96\n",
      "[[0.32987552 0.60285712]]\n",
      "[[0.2212097  0.53072247]]\n",
      "[[0.13904379 0.47617901]]\n",
      "[[0.18711529 0.50808988]]\n",
      "0.97\n",
      "[[0.27930528 0.61825254]]\n",
      "[[0.17115262 0.55621623]]\n",
      "[[0.10247773 0.51682434]]\n",
      "[[0.14450511 0.54093123]]\n",
      "0.98\n",
      "[[0.20455623 0.66448769]]\n",
      "[[0.11602449 0.62547118]]\n",
      "[[0.05843262 0.60009007]]\n",
      "[[0.09181068 0.6148    ]]\n",
      "0.99\n",
      "[[0.07783873 0.80577994]]\n",
      "[[0.04059655 0.79783349]]\n",
      "[[0.01642784 0.79267656]]\n",
      "[[0.03560799 0.79676907]]\n",
      "0.995\n",
      "[[0.0137155 0.9445408]]\n",
      "[[0.00781263 0.94420795]]\n",
      "[[0.00260421 0.94391426]]\n",
      "[[0.00833347 0.94423732]]\n",
      "0.999\n",
      "[[0.         0.99991295]]\n",
      "[[0.         0.99991295]]\n",
      "[[0.         0.99991295]]\n",
      "[[0.         0.99991295]]\n"
     ]
    }
   ],
   "source": [
    "for i in range(results.shape[0]):\n",
    "    print(results[i,0])\n",
    "    for j in range(len(preds)):\n",
    "        out = numpy.copy(preds[j])\n",
    "        out[out<results[i,0]] = 0\n",
    "        out[out!=0] = 1\n",
    "        #print(out.mean())\n",
    "        print(results[i,1:]*numpy.array([[numpy.mean(out), 1-numpy.mean(out)]])*numpy.array([[-1,1]]) + numpy.array([[numpy.mean(out), numpy.mean(out)]]) )"
   ]
  },
  {
   "cell_type": "code",
   "execution_count": null,
   "metadata": {
    "collapsed": true
   },
   "outputs": [],
   "source": []
  }
 ],
 "metadata": {
  "anaconda-cloud": {},
  "kernelspec": {
   "display_name": "Python [default]",
   "language": "python",
   "name": "python3"
  },
  "language_info": {
   "codemirror_mode": {
    "name": "ipython",
    "version": 3
   },
   "file_extension": ".py",
   "mimetype": "text/x-python",
   "name": "python",
   "nbconvert_exporter": "python",
   "pygments_lexer": "ipython3",
   "version": "3.5.2"
  }
 },
 "nbformat": 4,
 "nbformat_minor": 2
}
