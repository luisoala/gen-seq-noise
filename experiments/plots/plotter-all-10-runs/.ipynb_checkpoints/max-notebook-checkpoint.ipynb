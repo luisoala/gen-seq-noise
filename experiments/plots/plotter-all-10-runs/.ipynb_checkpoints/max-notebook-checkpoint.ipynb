{
 "cells": [
  {
   "cell_type": "code",
   "execution_count": 1,
   "metadata": {
    "collapsed": true
   },
   "outputs": [],
   "source": [
    "import matplotlib.pyplot as plt\n",
    "\n",
    "#packages\n",
    "import numpy\n",
    "np = numpy\n",
    "import tensorflow as tf\n",
    "from tensorflow.core.example import example_pb2\n",
    "\n",
    "#utils\n",
    "import os\n",
    "import random\n",
    "import pickle\n",
    "import struct\n",
    "import time\n",
    "#from generators import *"
   ]
  },
  {
   "cell_type": "code",
   "execution_count": 2,
   "metadata": {
    "collapsed": true
   },
   "outputs": [],
   "source": [
    "#specify models to plot\n",
    "system_dir= '/home/donald/Documents/MT/implementation-experiments'#'/home/oala/Documents/MT/implementation-experiments'\n",
    "ow_on_pseudorandom = ['ow_on_pseudorandom',system_dir+'/exciting-crazy/experiments/ow-on-pseudorandom/1/']\n",
    "ow_on_generator = ['ow_on_generator',system_dir+'/exciting-crazy/experiments/ow-on-generator/1/']\n",
    "ow_on_uniform = ['ow_on_uniform',system_dir+'/exciting-crazy/experiments/ow-on-uniform/1/']\n",
    "tw_on_pseudorandom = ['tw_on_pseudorandom',system_dir+'/exciting-crazy/experiments/tw-on-pseudorandom/1/']\n",
    "tw_on_generator = ['tw_on_generator',system_dir+'/exciting-crazy/experiments/tw-on-generator/1/']\n",
    "tw_on_uniform = ['tw_on_uniform',system_dir+'/exciting-crazy/experiments/tw-on-uniform/1/']\n",
    "\n",
    "model_paths = [tw_on_pseudorandom, tw_on_generator, tw_on_uniform, ow_on_pseudorandom, ow_on_generator, ow_on_uniform]"
   ]
  },
  {
   "cell_type": "code",
   "execution_count": 13,
   "metadata": {
    "collapsed": false
   },
   "outputs": [],
   "source": [
    "N=500\n",
    "epoch_size = 17944\n",
    "alpha = 0.2\n",
    "alpha2 = 0.25\n",
    "alpha3 = 0.05\n",
    "\n",
    "#first twd then owd\n",
    "for i in [0]:\n",
    "    \n",
    "    all_losses_twd = []\n",
    "    all_accs_twd = []\n",
    "    all_val_losses_twd = []\n",
    "    all_val_accs_twd = []\n",
    "    all_losses_owd = []\n",
    "    all_accs_owd = []\n",
    "    all_val_losses_owd =[]\n",
    "    all_val_accs_owd = []\n",
    "    \n",
    "    for j in range(1,11,1):\n",
    "    #first twd\n",
    "        model_name = model_paths[i][0]\n",
    "        with open(model_paths[i][1][:-2]+str(j)+'/'+'losses.pickle', 'rb') as handle: losses_twd = pickle.load(handle)\n",
    "        with open(model_paths[i][1][:-2]+str(j)+'/'+'accs.pickle', 'rb') as handle: accs_twd = pickle.load(handle)\n",
    "        val_losses_twd = numpy.loadtxt(model_paths[i][1][:-2]+str(j)+'/'+'run_.-tag-val_loss.csv', delimiter=',', skiprows=1, usecols=(1,2))\n",
    "        val_accs_twd = numpy.loadtxt(model_paths[i][1][:-2]+str(j)+'/'+'run_.-tag-val_acc.csv', delimiter=',', skiprows=1, usecols=(1,2))\n",
    "        \n",
    "        epoch_style = (val_losses_twd[:,0]+ 1)*epoch_size\n",
    "        \n",
    "        val_losses_twd = val_losses_twd[:,1]\n",
    "        val_accs_twd = val_accs_twd[:,1]\n",
    "        \n",
    "        all_losses_twd.append(losses_twd)\n",
    "        all_accs_twd.append(accs_twd)\n",
    "        all_val_losses_twd.append(val_losses_twd)\n",
    "        all_val_accs_twd.append(val_accs_twd)\n",
    "\n",
    "        #now owd\n",
    "        model_name = model_paths[i+3][0]\n",
    "        with open(model_paths[i+3][1][:-2]+str(j)+'/'+'losses.pickle', 'rb') as handle: losses_owd = pickle.load(handle)\n",
    "        with open(model_paths[i+3][1][:-2]+str(j)+'/'+'accs.pickle', 'rb') as handle: accs_owd = pickle.load(handle)\n",
    "        val_losses_owd = numpy.loadtxt(model_paths[i+3][1][:-2]+str(j)+'/'+'run_.-tag-val_loss.csv', delimiter=',', skiprows=1, usecols=(1,2))\n",
    "        val_accs_owd = numpy.loadtxt(model_paths[i+3][1][:-2]+str(j)+'/'+'run_.-tag-val_acc.csv', delimiter=',', skiprows=1, usecols=(1,2))\n",
    "        val_losses_owd = val_losses_owd[:,1]\n",
    "        val_accs_owd = val_accs_owd[:,1]\n",
    "        \n",
    "        all_losses_owd.append(losses_owd)\n",
    "        all_accs_owd.append(accs_owd)\n",
    "        all_val_losses_owd.append(val_losses_owd)\n",
    "        all_val_accs_owd.append(val_accs_owd)\n",
    "    \n",
    "    #stacking\n",
    "    all_losses_twd = numpy.stack(all_losses_twd)\n",
    "    all_accs_twd = numpy.stack(all_accs_twd)\n",
    "    all_val_losses_twd = numpy.stack(all_val_losses_twd)\n",
    "    all_val_accs_twd = numpy.stack(all_val_accs_twd)\n",
    "    all_losses_owd = numpy.stack(all_losses_owd)\n",
    "    all_accs_owd = numpy.stack(all_accs_owd)\n",
    "    all_val_losses_owd = numpy.stack(all_val_losses_owd)\n",
    "    all_val_accs_owd = numpy.stack(all_val_accs_owd)"
   ]
  },
  {
   "cell_type": "code",
   "execution_count": 14,
   "metadata": {
    "collapsed": false
   },
   "outputs": [
    {
     "name": "stdout",
     "output_type": "stream",
     "text": [
      "[0.35204956 0.35219827 0.34471142 0.35482636 0.34261543 0.34462377\n",
      " 0.34081045 0.33538339 0.35915253 0.34427986]\n",
      "7\n",
      "[0.42643681 0.42614996 0.42672598 0.4260579  0.42514315 0.42541516\n",
      " 0.42407498 0.42544866 0.42669693 0.4280239 ]\n",
      "6\n"
     ]
    }
   ],
   "source": [
    "print(numpy.amin(all_val_losses_twd, axis=1))\n",
    "print(numpy.argmin(numpy.amin(all_val_losses_twd, axis=1)))\n",
    "print(numpy.amin(all_val_losses_owd, axis=1))\n",
    "print(numpy.argmin(numpy.amin(all_val_losses_owd, axis=1)))"
   ]
  },
  {
   "cell_type": "code",
   "execution_count": 15,
   "metadata": {
    "collapsed": true
   },
   "outputs": [],
   "source": [
    "N=500\n",
    "epoch_size = 17944\n",
    "alpha = 0.2\n",
    "alpha2 = 0.25\n",
    "alpha3 = 0.05\n",
    "\n",
    "#first twd then owd\n",
    "for i in [1]:\n",
    "    \n",
    "    all_losses_twd = []\n",
    "    all_accs_twd = []\n",
    "    all_val_losses_twd = []\n",
    "    all_val_accs_twd = []\n",
    "    all_losses_owd = []\n",
    "    all_accs_owd = []\n",
    "    all_val_losses_owd =[]\n",
    "    all_val_accs_owd = []\n",
    "    \n",
    "    for j in range(1,11,1):\n",
    "    #first twd\n",
    "        model_name = model_paths[i][0]\n",
    "        with open(model_paths[i][1][:-2]+str(j)+'/'+'losses.pickle', 'rb') as handle: losses_twd = pickle.load(handle)\n",
    "        with open(model_paths[i][1][:-2]+str(j)+'/'+'accs.pickle', 'rb') as handle: accs_twd = pickle.load(handle)\n",
    "        val_losses_twd = numpy.loadtxt(model_paths[i][1][:-2]+str(j)+'/'+'run_.-tag-val_loss.csv', delimiter=',', skiprows=1, usecols=(1,2))\n",
    "        val_accs_twd = numpy.loadtxt(model_paths[i][1][:-2]+str(j)+'/'+'run_.-tag-val_acc.csv', delimiter=',', skiprows=1, usecols=(1,2))\n",
    "        \n",
    "        epoch_style = (val_losses_twd[:,0]+ 1)*epoch_size\n",
    "        \n",
    "        val_losses_twd = val_losses_twd[:,1]\n",
    "        val_accs_twd = val_accs_twd[:,1]\n",
    "        \n",
    "        all_losses_twd.append(losses_twd)\n",
    "        all_accs_twd.append(accs_twd)\n",
    "        all_val_losses_twd.append(val_losses_twd)\n",
    "        all_val_accs_twd.append(val_accs_twd)\n",
    "\n",
    "        #now owd\n",
    "        model_name = model_paths[i+3][0]\n",
    "        with open(model_paths[i+3][1][:-2]+str(j)+'/'+'losses.pickle', 'rb') as handle: losses_owd = pickle.load(handle)\n",
    "        with open(model_paths[i+3][1][:-2]+str(j)+'/'+'accs.pickle', 'rb') as handle: accs_owd = pickle.load(handle)\n",
    "        val_losses_owd = numpy.loadtxt(model_paths[i+3][1][:-2]+str(j)+'/'+'run_.-tag-val_loss.csv', delimiter=',', skiprows=1, usecols=(1,2))\n",
    "        val_accs_owd = numpy.loadtxt(model_paths[i+3][1][:-2]+str(j)+'/'+'run_.-tag-val_acc.csv', delimiter=',', skiprows=1, usecols=(1,2))\n",
    "        val_losses_owd = val_losses_owd[:,1]\n",
    "        val_accs_owd = val_accs_owd[:,1]\n",
    "        \n",
    "        all_losses_owd.append(losses_owd)\n",
    "        all_accs_owd.append(accs_owd)\n",
    "        all_val_losses_owd.append(val_losses_owd)\n",
    "        all_val_accs_owd.append(val_accs_owd)\n",
    "    \n",
    "    #stacking\n",
    "    all_losses_twd = numpy.stack(all_losses_twd)\n",
    "    all_accs_twd = numpy.stack(all_accs_twd)\n",
    "    all_val_losses_twd = numpy.stack(all_val_losses_twd)\n",
    "    all_val_accs_twd = numpy.stack(all_val_accs_twd)\n",
    "    all_losses_owd = numpy.stack(all_losses_owd)\n",
    "    all_accs_owd = numpy.stack(all_accs_owd)\n",
    "    all_val_losses_owd = numpy.stack(all_val_losses_owd)\n",
    "    all_val_accs_owd = numpy.stack(all_val_accs_owd)"
   ]
  },
  {
   "cell_type": "code",
   "execution_count": 16,
   "metadata": {
    "collapsed": false
   },
   "outputs": [
    {
     "name": "stdout",
     "output_type": "stream",
     "text": [
      "[0.21991171 0.21249098 0.21467093 0.21671666 0.21684965 0.21287294\n",
      " 0.21618214 0.21077169 0.21509285 0.21522729]\n",
      "7\n",
      "[0.42813355 0.22893134 0.22974944 0.23156714 0.23150882 0.23068044\n",
      " 0.23019746 0.22950599 0.23328224 0.23024647]\n",
      "1\n"
     ]
    }
   ],
   "source": [
    "print(numpy.amin(all_val_losses_twd, axis=1))\n",
    "print(numpy.argmin(numpy.amin(all_val_losses_twd, axis=1)))\n",
    "print(numpy.amin(all_val_losses_owd, axis=1))\n",
    "print(numpy.argmin(numpy.amin(all_val_losses_owd, axis=1)))"
   ]
  },
  {
   "cell_type": "code",
   "execution_count": 38,
   "metadata": {
    "collapsed": false
   },
   "outputs": [
    {
     "name": "stdout",
     "output_type": "stream",
     "text": [
      "[0.87967066 0.88573727 0.88912426 0.88923278 0.889375   0.88785179\n",
      " 0.88933758 0.88932635 0.89096183 0.89053892 0.89053518 0.88975673\n",
      " 0.89084207 0.88933383 0.89104789 0.8906961  0.89103294 0.8911976\n",
      " 0.89128368 0.89016467]\n",
      "[0.03135469 0.03023024 0.02944471 0.0309992  0.03094941 0.03017287\n",
      " 0.03059919 0.03030387 0.03124372 0.03037183 0.03129368 0.03070946\n",
      " 0.03062718 0.02981237 0.02993955 0.03006457 0.02995334 0.03037794\n",
      " 0.0300054  0.03038713]\n",
      "[0.89186003 0.89965943 0.90188997 0.90384731 0.90588698 0.90422905\n",
      " 0.90639222 0.90601422 0.90802769 0.90721182 0.90719686 0.90955465\n",
      " 0.91012725 0.90879491 0.90924774 0.90826348 0.90785928 0.91002619\n",
      " 0.90877994 0.90834956]\n",
      "[0.00401498 0.00276756 0.00335469 0.00316568 0.00242375 0.00373355\n",
      " 0.00203262 0.00267609 0.00191119 0.0014661  0.00312813 0.00159283\n",
      " 0.00125395 0.00203381 0.00208733 0.00258238 0.00336976 0.00168234\n",
      " 0.00157384 0.00195017]\n"
     ]
    }
   ],
   "source": [
    "print(all_val_accs_owd_means)\n",
    "print(all_val_accs_owd_std)\n",
    "print(all_val_accs_twd_means)\n",
    "print(all_val_accs_twd_std)"
   ]
  },
  {
   "cell_type": "code",
   "execution_count": 20,
   "metadata": {
    "collapsed": false
   },
   "outputs": [
    {
     "name": "stdout",
     "output_type": "stream",
     "text": [
      "330794\n",
      "171672\n",
      "0.25343406\n",
      "0.25309008\n",
      "358880\n",
      "358880\n",
      "11\n",
      "0\n",
      "0.008734534\n",
      "0.0077457624\n",
      "358880\n",
      "358880\n"
     ]
    }
   ],
   "source": [
    "print(numpy.argmax(all_losses_twd_std))\n",
    "print(numpy.argmax(all_losses_owd_std))\n",
    "\n",
    "print(all_losses_twd_std[330794])\n",
    "print(all_losses_owd_std[171672])\n",
    "\n",
    "print(len(all_losses_twd_std))\n",
    "print(len(all_losses_owd_std))\n",
    "\n",
    "print(numpy.argmin(all_losses_twd_std))\n",
    "print(numpy.argmin(all_losses_owd_std))\n",
    "\n",
    "print(all_losses_twd_std[11])\n",
    "print(all_losses_owd_std[0])\n",
    "\n",
    "print(len(all_losses_twd_std))\n",
    "print(len(all_losses_owd_std))"
   ]
  },
  {
   "cell_type": "code",
   "execution_count": 10,
   "metadata": {
    "collapsed": false
   },
   "outputs": [],
   "source": [
    "for i in [2]:\n",
    "    \n",
    "    all_losses_twd = []\n",
    "    all_accs_twd = []\n",
    "    all_val_losses_twd = []\n",
    "    all_val_accs_twd = []\n",
    "    all_losses_owd = []\n",
    "    all_accs_owd = []\n",
    "    all_val_losses_owd =[]\n",
    "    all_val_accs_owd = []\n",
    "    \n",
    "    for j in range(1,11,1):\n",
    "        #first twd\n",
    "        model_name = model_paths[i][0]\n",
    "        with open(model_paths[i][1][:-2]+str(j)+'/'+'losses.pickle', 'rb') as handle: losses_twd = pickle.load(handle)\n",
    "        with open(model_paths[i][1][:-2]+str(j)+'/'+'accs.pickle', 'rb') as handle: accs_twd = pickle.load(handle)\n",
    "        val_losses_twd = numpy.loadtxt(model_paths[i][1][:-2]+str(j)+'/'+'run_.-tag-val_loss.csv', delimiter=',', skiprows=1, usecols=(1,2))\n",
    "        val_accs_twd = numpy.loadtxt(model_paths[i][1][:-2]+str(j)+'/'+'run_.-tag-val_acc.csv', delimiter=',', skiprows=1, usecols=(1,2))\n",
    "        \n",
    "        epoch_style = (val_losses_twd[:,0] + 1)*epoch_size\n",
    "        \n",
    "        val_losses_twd = val_losses_twd[:,1]\n",
    "        val_accs_twd = val_accs_twd[:,1]\n",
    "        \n",
    "        all_losses_twd.append(losses_twd)\n",
    "        all_accs_twd.append(accs_twd)\n",
    "        all_val_losses_twd.append(val_losses_twd)\n",
    "        all_val_accs_twd.append(val_accs_twd)\n",
    "\n",
    "        #now owd\n",
    "        model_name = model_paths[i+3][0]\n",
    "        with open(model_paths[i+3][1][:-2]+str(j)+'/'+'losses.pickle', 'rb') as handle: losses_owd = pickle.load(handle)\n",
    "        with open(model_paths[i+3][1][:-2]+str(j)+'/'+'accs.pickle', 'rb') as handle: accs_owd = pickle.load(handle)\n",
    "        val_losses_owd = numpy.loadtxt(model_paths[i+3][1][:-2]+str(j)+'/'+'run_.-tag-val_loss.csv', delimiter=',', skiprows=1, usecols=(1,2))\n",
    "        val_accs_owd = numpy.loadtxt(model_paths[i+3][1][:-2]+str(j)+'/'+'run_.-tag-val_acc.csv', delimiter=',', skiprows=1, usecols=(1,2))\n",
    "        val_losses_owd = val_losses_owd[:,1]\n",
    "        val_accs_owd = val_accs_owd[:,1]\n",
    "        \n",
    "        all_losses_owd.append(losses_owd)\n",
    "        all_accs_owd.append(accs_owd)\n",
    "        all_val_losses_owd.append(val_losses_owd)\n",
    "        all_val_accs_owd.append(val_accs_owd)\n",
    "    \n",
    "    #stacking\n",
    "    all_losses_twd = numpy.stack(all_losses_twd)\n",
    "    all_accs_twd = numpy.stack(all_accs_twd)\n",
    "    all_val_losses_twd = numpy.stack(all_val_losses_twd)\n",
    "    all_val_accs_twd = numpy.stack(all_val_accs_twd)\n",
    "    all_losses_owd = numpy.stack(all_losses_owd)\n",
    "    all_accs_owd = numpy.stack(all_accs_owd)\n",
    "    all_val_losses_owd = numpy.stack(all_val_losses_owd)\n",
    "    all_val_accs_owd = numpy.stack(all_val_accs_owd)"
   ]
  },
  {
   "cell_type": "code",
   "execution_count": 12,
   "metadata": {
    "collapsed": false
   },
   "outputs": [
    {
     "name": "stdout",
     "output_type": "stream",
     "text": [
      "[1.09602524e-07 1.09603953e-07 1.09605487e-07 1.09606390e-07\n",
      " 1.09603235e-07 1.09604123e-07 1.09602517e-07 1.09601928e-07\n",
      " 1.09604720e-07 1.09604670e-07]\n",
      "7\n",
      "[1.09603953e-07 1.09606148e-07 1.09603235e-07 1.09602766e-07\n",
      " 1.09611840e-07 1.09609182e-07 1.09602517e-07 1.09754090e-07\n",
      " 1.09601793e-07 1.09605388e-07]\n",
      "8\n"
     ]
    }
   ],
   "source": [
    "print(numpy.amin(all_val_losses_twd, axis=1))\n",
    "print(numpy.argmin(numpy.amin(all_val_losses_twd, axis=1)))\n",
    "print(numpy.amin(all_val_losses_owd, axis=1))\n",
    "print(numpy.argmin(numpy.amin(all_val_losses_owd, axis=1)))"
   ]
  },
  {
   "cell_type": "code",
   "execution_count": null,
   "metadata": {
    "collapsed": true
   },
   "outputs": [],
   "source": []
  }
 ],
 "metadata": {
  "anaconda-cloud": {},
  "kernelspec": {
   "display_name": "Python [default]",
   "language": "python",
   "name": "python3"
  },
  "language_info": {
   "codemirror_mode": {
    "name": "ipython",
    "version": 3
   },
   "file_extension": ".py",
   "mimetype": "text/x-python",
   "name": "python",
   "nbconvert_exporter": "python",
   "pygments_lexer": "ipython3",
   "version": "3.5.2"
  }
 },
 "nbformat": 4,
 "nbformat_minor": 2
}
