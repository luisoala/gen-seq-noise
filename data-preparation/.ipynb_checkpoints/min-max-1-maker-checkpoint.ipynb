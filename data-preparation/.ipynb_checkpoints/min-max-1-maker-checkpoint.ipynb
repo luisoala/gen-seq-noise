{
 "cells": [
  {
   "cell_type": "code",
   "execution_count": 1,
   "metadata": {},
   "outputs": [],
   "source": [
    "import numpy"
   ]
  },
  {
   "cell_type": "code",
   "execution_count": 3,
   "metadata": {},
   "outputs": [],
   "source": [
    "maxi = numpy.load('/mnt/disks/500gb/stats-and-meta-data/400000/training-stats-all/maxi.npy')\n",
    "mini = numpy.load('/mnt/disks/500gb/stats-and-meta-data/400000/training-stats-all/mini.npy')"
   ]
  },
  {
   "cell_type": "code",
   "execution_count": 4,
   "metadata": {},
   "outputs": [
    {
     "name": "stdout",
     "output_type": "stream",
     "text": [
      "(48000,)\n",
      "(48000,)\n"
     ]
    }
   ],
   "source": [
    "print(maxi.shape)\n",
    "print(mini.shape)"
   ]
  },
  {
   "cell_type": "code",
   "execution_count": 5,
   "metadata": {},
   "outputs": [],
   "source": [
    "maxi_one = numpy.zeros_like(maxi)\n",
    "maxi_one[:] = numpy.amax(maxi)\n",
    "mini_one = numpy.zeros_like(mini)\n",
    "mini_one[:] = numpy.amax(mini)"
   ]
  },
  {
   "cell_type": "code",
   "execution_count": 6,
   "metadata": {},
   "outputs": [
    {
     "name": "stdout",
     "output_type": "stream",
     "text": [
      "(48000,)\n",
      "(48000,)\n",
      "[3.23869991 3.23869991 3.23869991 ... 3.23869991 3.23869991 3.23869991]\n",
      "[-0.44073999 -0.44073999 -0.44073999 ... -0.44073999 -0.44073999\n",
      " -0.44073999]\n"
     ]
    }
   ],
   "source": [
    "print(maxi_one.shape)\n",
    "print(mini_one.shape)\n",
    "print(maxi_one)\n",
    "print(mini_one)"
   ]
  },
  {
   "cell_type": "code",
   "execution_count": 7,
   "metadata": {},
   "outputs": [],
   "source": [
    "numpy.save('/mnt/disks/500gb/stats-and-meta-data/400000/training-stats-all/maxi_one.npy', maxi_one)\n",
    "numpy.save('/mnt/disks/500gb/stats-and-meta-data/400000/training-stats-all/mini_one.npy', mini_one)"
   ]
  },
  {
   "cell_type": "code",
   "execution_count": null,
   "metadata": {},
   "outputs": [],
   "source": []
  }
 ],
 "metadata": {
  "kernelspec": {
   "display_name": "Python ml",
   "language": "python",
   "name": "ml"
  },
  "language_info": {
   "codemirror_mode": {
    "name": "ipython",
    "version": 3
   },
   "file_extension": ".py",
   "mimetype": "text/x-python",
   "name": "python",
   "nbconvert_exporter": "python",
   "pygments_lexer": "ipython3",
   "version": "3.6.5"
  }
 },
 "nbformat": 4,
 "nbformat_minor": 2
}
