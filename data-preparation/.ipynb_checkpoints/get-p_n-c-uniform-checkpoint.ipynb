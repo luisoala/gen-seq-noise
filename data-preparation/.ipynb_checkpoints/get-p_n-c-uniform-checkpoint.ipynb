{
 "cells": [
  {
   "cell_type": "code",
   "execution_count": 1,
   "metadata": {},
   "outputs": [],
   "source": [
    "import numpy"
   ]
  },
  {
   "cell_type": "code",
   "execution_count": 2,
   "metadata": {},
   "outputs": [],
   "source": [
    "maxi = numpy.load('/mnt/disks/500gb/stats-and-meta-data/400000/training-stats-all/maxi.npy')\n",
    "mini = numpy.load('/mnt/disks/500gb/stats-and-meta-data/400000/training-stats-all/mini.npy')"
   ]
  },
  {
   "cell_type": "code",
   "execution_count": 3,
   "metadata": {},
   "outputs": [
    {
     "name": "stdout",
     "output_type": "stream",
     "text": [
      "(48000,)\n",
      "(48000,)\n"
     ]
    }
   ],
   "source": [
    "print(maxi.shape)\n",
    "print(mini.shape)"
   ]
  },
  {
   "cell_type": "code",
   "execution_count": 13,
   "metadata": {},
   "outputs": [
    {
     "name": "stdout",
     "output_type": "stream",
     "text": [
      "-69052.7172873707\n"
     ]
    }
   ],
   "source": [
    "#c = numpy.log(numpy.prod(1/(maxi-mini)))\n",
    "c = numpy.log((1/(maxi-mini))).sum()\n",
    "print(c)"
   ]
  },
  {
   "cell_type": "code",
   "execution_count": 10,
   "metadata": {},
   "outputs": [
    {
     "name": "stdout",
     "output_type": "stream",
     "text": [
      "[0.23884019 0.28321391 0.24724324 ... 0.37408349 0.47366651 0.64156851]\n"
     ]
    }
   ],
   "source": [
    "print(1/(maxi-mini))"
   ]
  },
  {
   "cell_type": "code",
   "execution_count": null,
   "metadata": {},
   "outputs": [],
   "source": []
  }
 ],
 "metadata": {
  "kernelspec": {
   "display_name": "Python ml",
   "language": "python",
   "name": "ml"
  },
  "language_info": {
   "codemirror_mode": {
    "name": "ipython",
    "version": 3
   },
   "file_extension": ".py",
   "mimetype": "text/x-python",
   "name": "python",
   "nbconvert_exporter": "python",
   "pygments_lexer": "ipython3",
   "version": "3.6.5"
  }
 },
 "nbformat": 4,
 "nbformat_minor": 2
}
