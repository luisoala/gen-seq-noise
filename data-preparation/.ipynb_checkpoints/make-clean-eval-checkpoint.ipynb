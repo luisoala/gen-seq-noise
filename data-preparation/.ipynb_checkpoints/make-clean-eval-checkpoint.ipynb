{
 "cells": [
  {
   "cell_type": "code",
   "execution_count": 1,
   "metadata": {},
   "outputs": [
    {
     "data": {
      "text/html": [
       "<style>.container { width:80% !important; }</style>"
      ],
      "text/plain": [
       "<IPython.core.display.HTML object>"
      ]
     },
     "metadata": {},
     "output_type": "display_data"
    }
   ],
   "source": [
    "#cell-width control\n",
    "from IPython.core.display import display, HTML\n",
    "display(HTML(\"<style>.container { width:80% !important; }</style>\"))"
   ]
  },
  {
   "cell_type": "code",
   "execution_count": 2,
   "metadata": {},
   "outputs": [
    {
     "data": {
      "application/javascript": [
       "IPython.OutputArea.prototype._should_scroll = function(lines) {\n",
       "    return false;\n",
       "}"
      ],
      "text/plain": [
       "<IPython.core.display.Javascript object>"
      ]
     },
     "metadata": {},
     "output_type": "display_data"
    }
   ],
   "source": [
    "%%javascript\n",
    "IPython.OutputArea.prototype._should_scroll = function(lines) {\n",
    "    return false;\n",
    "}"
   ]
  },
  {
   "cell_type": "code",
   "execution_count": 2,
   "metadata": {},
   "outputs": [
    {
     "name": "stderr",
     "output_type": "stream",
     "text": [
      "/home/oala/anaconda3/lib/python3.6/site-packages/h5py/__init__.py:36: FutureWarning: Conversion of the second argument of issubdtype from `float` to `np.floating` is deprecated. In future, it will be treated as `np.float64 == np.dtype(float).type`.\n",
      "  from ._conv import register_converters as _register_converters\n",
      "Using TensorFlow backend.\n"
     ]
    }
   ],
   "source": [
    "#packages\n",
    "import numpy\n",
    "import tensorflow as tf\n",
    "from tensorflow.core.example import example_pb2\n",
    "\n",
    "#utils\n",
    "import os\n",
    "import random\n",
    "import pickle\n",
    "import struct\n",
    "import time\n",
    "from noise import *\n",
    "\n",
    "#keras\n",
    "import keras\n",
    "from keras.preprocessing import text, sequence\n",
    "from keras.preprocessing.text import Tokenizer\n",
    "from keras.models import Model\n",
    "from keras.models import load_model\n",
    "from keras.layers import Dense, Dropout, Activation, Concatenate, Dot, Embedding, LSTM, Conv1D, MaxPooling1D, Input, Lambda\n"
   ]
  },
  {
   "cell_type": "code",
   "execution_count": 3,
   "metadata": {},
   "outputs": [
    {
     "name": "stdout",
     "output_type": "stream",
     "text": [
      "Reading clean data...\n",
      "...done!\n",
      "Preprocess clean data, i.e. remove <s> and </s>...\n",
      "...done!\n",
      "write clean training strings to file...\n",
      "...done!\n"
     ]
    }
   ],
   "source": [
    "numpy.random.seed(47)\n",
    "####TRAIN####\n",
    "filename = \"/home/oala/Documents/MT/data/datasets/finished_files/test.bin\"\n",
    "#noise_candidates_path = '/home/oala/Documents/MT/noising/4-beam-PGC-noise-on-train/pretrained_model_tf1.2.1/decode_train_400maxenc_4beam_35mindec_120maxdec_ckpt-238410/decoded/'\n",
    "#filename = \"/home/donald/documents/MT/data/data-essentials-mini/finished_files/val.bin\"\n",
    "nc_dist = (0.5,0.5)\n",
    "corr_sample = False\n",
    "separate = False\n",
    "fractions = {\"switch-pairs\":0.25,\"sentence-switch-entire-bank\":0.25,\\\n",
    "                     \"sentence-switch-same-text-bank\":0.25,\"word-switch-entire-bank\":0.25}\n",
    "   \n",
    "#read in clean data\n",
    "print('Reading clean data...')\n",
    "text_summ_pairs = []\n",
    "with open(filename, 'r') as data:\n",
    "    text = data.readline()\n",
    "    summ = data.readline()\n",
    "    while summ:\n",
    "        if len(text) > 2 and len(summ) > 2:\n",
    "            text_summ_pairs.append([text[0:-1], summ[0:-1]])\n",
    "        text = data.readline()\n",
    "        summ = data.readline()\n",
    "clean_2d = numpy.array(text_summ_pairs, dtype=object)\n",
    "print('...done!')\n",
    "\n",
    "#preprocess clean data, i.e. remove <s> and </s>\n",
    "print('Preprocess clean data, i.e. remove <s> and </s>...')\n",
    "for i in range(clean_2d.shape[0]):\n",
    "    clean_2d[i,1] = clean_2d[i,1].replace('<s> ', '')\n",
    "    clean_2d[i,1] = clean_2d[i,1].replace(' </s>', '')\n",
    "print('...done!')\n",
    "\n",
    "#go through train data to write to: embed, write to file with id, add id to trai\n",
    "print('write clean training strings to file...')\n",
    "\n",
    "partition = {}\n",
    "partition['test'] = []\n",
    "labels = {}\n",
    "id_counter = 1\n",
    "\n",
    "texts = clean_2d[:,0]\n",
    "summs = clean_2d[:,1]\n",
    "\n",
    "    #get targets\n",
    "N_clean = clean_2d.shape[0]\n",
    "#N_noise = noise_2d.shape[0]\n",
    "targets = [1]*N_clean\n",
    "\n",
    "for i in range(N_clean):\n",
    "    store_string = texts[i]+'\\n'+summs[i]\n",
    "    id_name = 'id-'+str(id_counter)\n",
    "    with open('/media/oala/4TB/experimental-data/evaluation-data/test-onlyclean/only-clean/'+id_name, 'w') as file:\n",
    "        file.write(store_string)\n",
    "    partition['test'] += [id_name]\n",
    "    labels[id_name] = targets[i]\n",
    "    id_counter += 1\n",
    "print('...done!')"
   ]
  },
  {
   "cell_type": "code",
   "execution_count": 4,
   "metadata": {},
   "outputs": [
    {
     "name": "stdout",
     "output_type": "stream",
     "text": [
      "11490\n",
      "1.0\n"
     ]
    }
   ],
   "source": [
    "print(len(partition['test']))\n",
    "count = 0\n",
    "for key in partition['test']:\n",
    "    count += labels[key]\n",
    "print(count/len(partition['test']))"
   ]
  },
  {
   "cell_type": "code",
   "execution_count": 5,
   "metadata": {},
   "outputs": [
    {
     "name": "stdout",
     "output_type": "stream",
     "text": [
      "store label dict...\n",
      "...done!\n",
      "partition dict...\n",
      "...done!\n"
     ]
    }
   ],
   "source": [
    "#store label dict\n",
    "print('store label dict...')\n",
    "with open('/media/oala/4TB/experimental-data/evaluation-data/test-onlyclean/only-clean/'+'labels.pickle', 'wb') as handle:\n",
    "    pickle.dump(labels, handle, protocol=pickle.HIGHEST_PROTOCOL)\n",
    "print('...done!')\n",
    "\n",
    "#store partition dict\n",
    "print('partition dict...')\n",
    "with open('/media/oala/4TB/experimental-data/evaluation-data/test-onlyclean/only-clean/'+'partition.pickle', 'wb') as handle:\n",
    "    pickle.dump(partition, handle, protocol=pickle.HIGHEST_PROTOCOL)\n",
    "print('...done!')"
   ]
  },
  {
   "cell_type": "code",
   "execution_count": null,
   "metadata": {},
   "outputs": [],
   "source": []
  }
 ],
 "metadata": {
  "kernelspec": {
   "display_name": "Python 3",
   "language": "python",
   "name": "python3"
  },
  "language_info": {
   "codemirror_mode": {
    "name": "ipython",
    "version": 3
   },
   "file_extension": ".py",
   "mimetype": "text/x-python",
   "name": "python",
   "nbconvert_exporter": "python",
   "pygments_lexer": "ipython3",
   "version": "3.6.4"
  }
 },
 "nbformat": 4,
 "nbformat_minor": 2
}
